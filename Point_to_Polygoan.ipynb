{
 "cells": [
  {
   "cell_type": "markdown",
   "id": "4d3070dd",
   "metadata": {},
   "source": [
    "## == Point to Polygoan == "
   ]
  },
  {
   "cell_type": "markdown",
   "id": "72a23042",
   "metadata": {},
   "source": [
    "The script requires the following libraries: pandas and geopandas.\n",
    "You can install them using pip with the following commands:\n",
    "\n",
    "pip install pandas\n",
    "pip install geopandas "
   ]
  },
  {
   "cell_type": "code",
   "execution_count": 8,
   "id": "83bc7530",
   "metadata": {},
   "outputs": [
    {
     "name": "stdout",
     "output_type": "stream",
     "text": [
      "Loading input CSV file: /home/dibakar88/N24E90_Training_poly_Brick/N24E90.csv\n",
      "CSV loaded successfully.\n",
      "Converting DataFrame to GeoDataFrame...\n",
      "Creating buffers of 0.0005 units around each point...\n"
     ]
    },
    {
     "name": "stderr",
     "output_type": "stream",
     "text": [
      "/tmp/ipykernel_3880501/956281545.py:39: UserWarning: Geometry is in a geographic CRS. Results from 'buffer' are likely incorrect. Use 'GeoSeries.to_crs()' to re-project geometries to a projected CRS before this operation.\n",
      "\n",
      "  gdf['geometry'] = gdf.geometry.buffer(buffer_distance)\n"
     ]
    },
    {
     "name": "stdout",
     "output_type": "stream",
     "text": [
      "Dissolving buffers based on the 'class_ID' column...\n",
      "Dissolve complete.\n",
      "Saving dissolved polygons to: /home/dibakar88/N24E90_Training_poly_Brick/output.shp\n",
      "Process completed successfully!\n"
     ]
    },
    {
     "name": "stderr",
     "output_type": "stream",
     "text": [
      "/home/dibakar88/anaconda3/envs/myenv/lib/python3.10/site-packages/pyogrio/raw.py:723: RuntimeWarning: Normalized/laundered field name: 'Unnamed: 0' to 'Unnamed_ 0'\n",
      "  ogr_write(\n"
     ]
    }
   ],
   "source": [
    "import pandas as pd\n",
    "import geopandas as gpd\n",
    "from shapely.geometry import Point\n",
    "\n",
    "def create_dissolved_polygons_from_points(input_csv_path, output_shp_path, class_id_column, buffer_distance, x_col, y_col):\n",
    "    \n",
    "    \"\"\"Creates polygons around points from a CSV, dissolving them based on a class ID.\n",
    "\n",
    "    Args:\n",
    "        input_csv_path (str): \"/home/dibakar88/N24E90_Training_poly_Brick/N24E90.csv\"\n",
    "        output_shp_path (str): \"/home/dibakar88/N24E90_Training_poly_Brick/output\"\n",
    "        class_id_column (str): \"class_ID\"\n",
    "        buffer_distance (float): 10.\n",
    "        x_col (str): \"Lon\"\n",
    "        y_col (str): \"Lat\"    \n",
    "    \"\"\"\n",
    "          \n",
    "    try:\n",
    "        # 1. Load the input CSV file into a pandas DataFrame\n",
    "        print(f\"Loading input CSV file: {input_csv_path}\")\n",
    "        df = pd.read_csv(input_csv_path)\n",
    "        print(\"CSV loaded successfully.\")\n",
    "\n",
    "        # Check if the class ID and coordinate columns exist\n",
    "        if class_id_column not in df.columns or x_col not in df.columns or y_col not in df.columns:\n",
    "            raise ValueError(\"Required columns are missing from the CSV file. \"\n",
    "                             f\"Please check for '{class_id_column}', '{x_col}', and '{y_col}'.\")\n",
    "\n",
    "        # 2. Convert the DataFrame to a GeoDataFrame\n",
    "        print(\"Converting DataFrame to GeoDataFrame...\")\n",
    "        # Create a list of shapely Point objects from the x and y columns\n",
    "        geometry = [Point(xy) for xy in zip(df[x_col], df[y_col])]\n",
    "        # Create the GeoDataFrame, specifying the geometry and original CRS\n",
    "        gdf = gpd.GeoDataFrame(df, geometry=geometry, crs=\"EPSG:4326\")  # CRS is set to WGS84 for lat/lon\n",
    "\n",
    "        # 3. Create a buffer around each point\n",
    "        print(f\"Creating buffers of {buffer_distance} units around each point...\")\n",
    "        # A new GeoDataFrame is created with the buffered geometries\n",
    "        gdf['geometry'] = gdf.geometry.buffer(buffer_distance)\n",
    "        \n",
    "        # 4. Dissolve the buffered polygons based on the class ID column\n",
    "        print(f\"Dissolving buffers based on the '{class_id_column}' column...\")\n",
    "        # The dissolve operation merges all geometries with the same value in the specified column.\n",
    "        dissolved_gdf = gdf.dissolve(by=class_id_column)\n",
    "        print(\"Dissolve complete.\")\n",
    "\n",
    "        # 5. Save the resulting GeoDataFrame to a new shapefile\n",
    "        print(f\"Saving dissolved polygons to: {output_shp_path}\")\n",
    "        dissolved_gdf.to_file(output_shp_path)\n",
    "        print(\"Process completed successfully!\")\n",
    "\n",
    "    except FileNotFoundError:\n",
    "        print(f\"Error: The file '{input_csv_path}' was not found.\")\n",
    "    except ValueError as e:\n",
    "        print(f\"Error: {e}\")\n",
    "    except Exception as e:\n",
    "        print(f\"An unexpected error occurred: {e}\")\n",
    "\n",
    "# Example usage:\n",
    "if __name__ == \"__main__\":\n",
    "    # Define your input and output paths, class ID column, and buffer distance\n",
    "    # NOTE: Replace these with your actual file paths and parameters.\n",
    "    INPUT_FILE = \"/home/dibakar88/N24E90_Training_poly_Brick/N24E90.csv\"\n",
    "    OUTPUT_FILE = \"/home/dibakar88/N24E90_Training_poly_Brick/output.shp\"\n",
    "    CLASS_COLUMN = \"class_ID\"\n",
    "    BUFFER_SIZE = 0.0005\n",
    "    X_COLUMN = \"Lon\"\n",
    "    Y_COLUMN = \"Lat\"  \n",
    "    \n",
    "    \n",
    "    # Call the main function to run the process\n",
    "    create_dissolved_polygons_from_points(INPUT_FILE, OUTPUT_FILE, CLASS_COLUMN, BUFFER_SIZE, X_COLUMN, Y_COLUMN)\n"
   ]
  }
 ],
 "metadata": {
  "kernelspec": {
   "display_name": "myenv",
   "language": "python",
   "name": "python3"
  },
  "language_info": {
   "codemirror_mode": {
    "name": "ipython",
    "version": 3
   },
   "file_extension": ".py",
   "mimetype": "text/x-python",
   "name": "python",
   "nbconvert_exporter": "python",
   "pygments_lexer": "ipython3",
   "version": "3.10.18"
  }
 },
 "nbformat": 4,
 "nbformat_minor": 5
}
