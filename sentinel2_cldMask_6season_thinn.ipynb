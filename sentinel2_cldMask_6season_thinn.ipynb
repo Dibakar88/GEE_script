{
 "cells": [
  {
   "cell_type": "code",
   "execution_count": 1,
   "id": "4614404f",
   "metadata": {},
   "outputs": [
    {
     "data": {
      "text/html": [
       "<p>To authorize access needed by Earth Engine, open the following\n",
       "        URL in a web browser and follow the instructions:</p>\n",
       "        <p><a href=https://code.earthengine.google.com/client-auth?scopes=https%3A//www.googleapis.com/auth/earthengine%20https%3A//www.googleapis.com/auth/cloud-platform%20https%3A//www.googleapis.com/auth/devstorage.full_control&request_id=vsruvQRQB_25-UHXYByu2YRFJyW8Ok6_XtfqWYBPC2Q&tc=fMswjOAq3uXTKfAmpNVvbIOGSyCeQRFBsDX8RgFwMjI&cc=kmrgme0KF-zsb9JMwygCtGb5lpj6x-YwQgbe1NfIU4I>https://code.earthengine.google.com/client-auth?scopes=https%3A//www.googleapis.com/auth/earthengine%20https%3A//www.googleapis.com/auth/cloud-platform%20https%3A//www.googleapis.com/auth/devstorage.full_control&request_id=vsruvQRQB_25-UHXYByu2YRFJyW8Ok6_XtfqWYBPC2Q&tc=fMswjOAq3uXTKfAmpNVvbIOGSyCeQRFBsDX8RgFwMjI&cc=kmrgme0KF-zsb9JMwygCtGb5lpj6x-YwQgbe1NfIU4I</a></p>\n",
       "        <p>The authorization workflow will generate a code, which you should paste in the box below.</p>\n",
       "        "
      ],
      "text/plain": [
       "<IPython.core.display.HTML object>"
      ]
     },
     "metadata": {},
     "output_type": "display_data"
    },
    {
     "name": "stdout",
     "output_type": "stream",
     "text": [
      "\n",
      "Successfully saved authorization token.\n"
     ]
    }
   ],
   "source": [
    "import ee\n",
    "ee.Authenticate()\n",
    "ee.Initialize()"
   ]
  },
  {
   "cell_type": "code",
   "execution_count": null,
   "id": "3330f17e",
   "metadata": {},
   "outputs": [],
   "source": [
    "## My study area 12 tiles\n",
    "\n",
    "N24E88 = ee.Geometry.Polygon(\n",
    "        [[[88, 25],\n",
    "          [89, 25],\n",
    "          [89, 24],\n",
    "          [88, 24],\n",
    "          [88, 25]]])\n",
    "\n",
    "N24E89 = ee.Geometry.Polygon(\n",
    "        [[[89, 25],\n",
    "          [90, 25],\n",
    "          [90, 24],\n",
    "          [89, 24],\n",
    "          [89, 25]]])\n",
    "\n",
    "N24E90 = ee.Geometry.Polygon(\n",
    "        [[[90, 25],\n",
    "          [91, 25],\n",
    "          [91, 24],\n",
    "          [90, 24],\n",
    "          [90, 25]]])\n",
    "N24E91 = ee.Geometry.Polygon(\n",
    "        [[[91, 25],\n",
    "          [92, 25],\n",
    "          [92, 24],\n",
    "          [91, 24],\n",
    "          [91, 25]]])\n",
    "N24E92 = ee.Geometry.Polygon(\n",
    "        [[[92, 25],\n",
    "          [93, 25],\n",
    "          [93, 24],\n",
    "          [92, 24],\n",
    "          [92, 25]]])\n",
    "\n",
    "N25E88 = ee.Geometry.Polygon(\n",
    "        [[[88, 26],\n",
    "          [89, 26],\n",
    "          [89, 25],\n",
    "          [88, 25],\n",
    "          [88, 26]]])\n",
    "\n",
    "N25E89 = ee.Geometry.Polygon(\n",
    "        [[[89, 26],\n",
    "          [90, 26],\n",
    "          [90, 25],\n",
    "          [89, 25],\n",
    "          [89, 26]]])\n",
    "\n",
    "N25E90 = ee.Geometry.Polygon(\n",
    "        [[[88, 26],\n",
    "          [89, 26],\n",
    "          [89, 25],\n",
    "          [88, 25],\n",
    "          [88, 26]]]) \n",
    "\n",
    "N25E91 = ee.Geometry.Polygon(\n",
    "        [[[91, 26],\n",
    "          [92, 26],\n",
    "          [92, 25],\n",
    "          [91, 25],\n",
    "          [91, 26]]])\n",
    "\n",
    "N25E92 = ee.Geometry.Polygon(\n",
    "        [[[92, 26],\n",
    "          [93, 26],\n",
    "          [93, 25],\n",
    "          [92, 25],\n",
    "          [92, 26]]])\n",
    "\n",
    "N26E88 = ee.Geometry.Polygon(\n",
    "        [[[88, 27],\n",
    "          [89, 27],\n",
    "          [89, 26],\n",
    "          [88, 26],\n",
    "          [88, 27]]])\n",
    "\n",
    "N26E89 = ee.Geometry.Polygon(\n",
    "        [[[89, 27],\n",
    "          [90, 27],\n",
    "          [90, 26],\n",
    "          [89, 26],\n",
    "          [89, 27]]])\n",
    "\n"
   ]
  },
  {
   "cell_type": "code",
   "execution_count": 103,
   "id": "3a8366ad",
   "metadata": {},
   "outputs": [
    {
     "data": {
      "text/html": [
       "\n",
       "            <style>\n",
       "                .geemap-dark {\n",
       "                    --jp-widgets-color: white;\n",
       "                    --jp-widgets-label-color: white;\n",
       "                    --jp-ui-font-color1: white;\n",
       "                    --jp-layout-color2: #454545;\n",
       "                    background-color: #383838;\n",
       "                }\n",
       "\n",
       "                .geemap-dark .jupyter-button {\n",
       "                    --jp-layout-color3: #383838;\n",
       "                }\n",
       "\n",
       "                .geemap-colab {\n",
       "                    background-color: var(--colab-primary-surface-color, white);\n",
       "                }\n",
       "\n",
       "                .geemap-colab .jupyter-button {\n",
       "                    --jp-layout-color3: var(--colab-primary-surface-color, white);\n",
       "                }\n",
       "            </style>\n",
       "            "
      ],
      "text/plain": [
       "<IPython.core.display.HTML object>"
      ]
     },
     "metadata": {},
     "output_type": "display_data"
    },
    {
     "data": {
      "text/plain": [
       "'N25E92 = ee.Geometry.Polygon (\\n    [[[92 ,26], \\n                                 [93,26], \\n                                 [93, 25], \\n                                 [92, 25], \\n                                 [92, 26]]])'"
      ]
     },
     "execution_count": 103,
     "metadata": {},
     "output_type": "execute_result"
    }
   ],
   "source": [
    "\"\"\"N25E92 = ee.Geometry.Polygon (\n",
    "    [[[92 ,26], \n",
    "                                 [93,26], \n",
    "                                 [93, 25], \n",
    "                                 [92, 25], \n",
    "                                 [92, 26]]])\"\"\"\n",
    "\n",
    "\n"
   ]
  },
  {
   "cell_type": "code",
   "execution_count": 104,
   "id": "1007d493",
   "metadata": {},
   "outputs": [
    {
     "data": {
      "text/html": [
       "\n",
       "            <style>\n",
       "                .geemap-dark {\n",
       "                    --jp-widgets-color: white;\n",
       "                    --jp-widgets-label-color: white;\n",
       "                    --jp-ui-font-color1: white;\n",
       "                    --jp-layout-color2: #454545;\n",
       "                    background-color: #383838;\n",
       "                }\n",
       "\n",
       "                .geemap-dark .jupyter-button {\n",
       "                    --jp-layout-color3: #383838;\n",
       "                }\n",
       "\n",
       "                .geemap-colab {\n",
       "                    background-color: var(--colab-primary-surface-color, white);\n",
       "                }\n",
       "\n",
       "                .geemap-colab .jupyter-button {\n",
       "                    --jp-layout-color3: var(--colab-primary-surface-color, white);\n",
       "                }\n",
       "            </style>\n",
       "            "
      ],
      "text/plain": [
       "<IPython.core.display.HTML object>"
      ]
     },
     "metadata": {},
     "output_type": "display_data"
    },
    {
     "data": {
      "text/plain": [
       "'\\nN24E90 = ee.Geometry.Polygon(\\n        [[[90, 25],\\n          [91, 25],\\n          [91, 24],\\n          [90, 24],\\n          [90, 25]]])\\nN23E90 = ee.Geometry.Polygon(\\n        [[[90, 24],\\n          [91, 24],\\n          [91, 23],\\n          [90, 23],\\n          [90, 24]]])\\nN22E90 = ee.Geometry.Polygon(\\n        [[[90, 23],\\n          [91, 23],\\n          [91, 22],\\n          [90, 22],\\n          [90, 23]]])\\nN21E90 = ee.Geometry.Polygon(\\n        [[[90, 22],\\n          [91, 22],\\n          [91, 21],\\n          [90, 21],\\n          [90, 22]]])\\nN25E91 = ee.Geometry.Polygon(\\n        [[[91, 26],\\n          [92, 26],\\n          [92, 25],\\n          [91, 25],\\n          [91, 26]]])\\nN24E91 = ee.Geometry.Polygon(\\n        [[[91, 25],\\n          [92, 25],\\n          [92, 24],\\n          [91, 24],\\n          [91, 25]]])\\nN23E91 = ee.Geometry.Polygon(\\n        [[[91, 24],\\n          [92, 24],\\n          [92, 23],\\n          [91, 23],\\n          [91, 24]]])\\nN22E91 = ee.Geometry.Polygon(\\n        [[[91, 23],\\n          [92, 23],\\n          [92, 22],\\n          [91, 22],\\n          [91, 23]]])\\nN21E91 = ee.Geometry.Polygon(\\n        [[[91, 22],\\n          [92, 22],\\n          [92, 21],\\n          [91, 21],\\n          [91, 22]]])\\nN25E92 = ee.Geometry.Polygon(\\n        [[[92, 26],\\n          [93, 26],\\n          [93, 25],\\n          [92, 25],\\n          [92, 26]]])\\nN24E92 = ee.Geometry.Polygon(\\n        [[[92, 25],\\n          [93, 25],\\n          [93, 24],\\n          [92, 24],\\n          [92, 25]]])\\nN23E92 = ee.Geometry.Polygon(\\n        [[[92, 24],\\n          [93, 24],\\n          [93, 23],\\n          [92, 23],\\n          [92, 24]]])\\nN22E92 = ee.Geometry.Polygon(\\n        [[[92, 23],\\n          [93, 23],\\n          [93, 22],\\n          [92, 22],\\n          [92, 23]]])\\nN21E92 = ee.Geometry.Polygon(\\n        [[[92, 22],\\n          [93, 22],\\n          [93, 21],\\n          [92, 21],\\n          [92, 22]]])\\nN20E92 = ee.Geometry.Polygon(\\n        [[[92, 21],\\n          [93, 21],\\n          [93, 20],\\n          [92, 20],\\n          [92, 21]]]) \\nN23E90 = ee.Geometry.Polygon(\\n        [[[90, 24],\\n          [91, 24],\\n          [91, 23],\\n          [90, 23],\\n          [90, 24]]])\\nN22E90 = ee.Geometry.Polygon(\\n        [[[90, 23],\\n          [91, 23],\\n          [91, 22],\\n          [90, 22],\\n          [90, 23]]])\\nN21E90 = ee.Geometry.Polygon(\\n        [[[90, 22],\\n          [91, 22],\\n          [91, 21],\\n          [90, 21],\\n          [90, 22]]])\\nN25E91 = ee.Geometry.Polygon(\\n        [[[91, 26],\\n          [92, 26],\\n          [92, 25],\\n          [91, 25],\\n          [91, 26]]])\\nN24E91 = ee.Geometry.Polygon(\\n        [[[91, 25],\\n          [92, 25],\\n          [92, 24],\\n          [91, 24],\\n          [91, 25]]])\\nN23E91 = ee.Geometry.Polygon(\\n        [[[91, 24],\\n          [92, 24],\\n          [92, 23],\\n          [91, 23],\\n          [91, 24]]])\\nN22E91 = ee.Geometry.Polygon(\\n        [[[91, 23],\\n          [92, 23],\\n          [92, 22],\\n          [91, 22],\\n          [91, 23]]])\\nN21E91 = ee.Geometry.Polygon(\\n        [[[91, 22],\\n          [92, 22],\\n          [92, 21],\\n          [91, 21],\\n          [91, 22]]])\\nN25E92 = ee.Geometry.Polygon(\\n        [[[92, 26],\\n          [93, 26],\\n          [93, 25],\\n          [92, 25],\\n          [92, 26]]])\\nN24E92 = ee.Geometry.Polygon(\\n        [[[92, 25],\\n          [93, 25],\\n          [93, 24],\\n          [92, 24],\\n          [92, 25]]])\\n\\n          '"
      ]
     },
     "execution_count": 104,
     "metadata": {},
     "output_type": "execute_result"
    }
   ],
   "source": [
    "\"\"\"\n",
    "N24E90 = ee.Geometry.Polygon(\n",
    "        [[[90, 25],\n",
    "          [91, 25],\n",
    "          [91, 24],\n",
    "          [90, 24],\n",
    "          [90, 25]]])\n",
    "N23E90 = ee.Geometry.Polygon(\n",
    "        [[[90, 24],\n",
    "          [91, 24],\n",
    "          [91, 23],\n",
    "          [90, 23],\n",
    "          [90, 24]]])\n",
    "N22E90 = ee.Geometry.Polygon(\n",
    "        [[[90, 23],\n",
    "          [91, 23],\n",
    "          [91, 22],\n",
    "          [90, 22],\n",
    "          [90, 23]]])\n",
    "N21E90 = ee.Geometry.Polygon(\n",
    "        [[[90, 22],\n",
    "          [91, 22],\n",
    "          [91, 21],\n",
    "          [90, 21],\n",
    "          [90, 22]]])\n",
    "N25E91 = ee.Geometry.Polygon(\n",
    "        [[[91, 26],\n",
    "          [92, 26],\n",
    "          [92, 25],\n",
    "          [91, 25],\n",
    "          [91, 26]]])\n",
    "N24E91 = ee.Geometry.Polygon(\n",
    "        [[[91, 25],\n",
    "          [92, 25],\n",
    "          [92, 24],\n",
    "          [91, 24],\n",
    "          [91, 25]]])\n",
    "N23E91 = ee.Geometry.Polygon(\n",
    "        [[[91, 24],\n",
    "          [92, 24],\n",
    "          [92, 23],\n",
    "          [91, 23],\n",
    "          [91, 24]]])\n",
    "N22E91 = ee.Geometry.Polygon(\n",
    "        [[[91, 23],\n",
    "          [92, 23],\n",
    "          [92, 22],\n",
    "          [91, 22],\n",
    "          [91, 23]]])\n",
    "N21E91 = ee.Geometry.Polygon(\n",
    "        [[[91, 22],\n",
    "          [92, 22],\n",
    "          [92, 21],\n",
    "          [91, 21],\n",
    "          [91, 22]]])\n",
    "N25E92 = ee.Geometry.Polygon(\n",
    "        [[[92, 26],\n",
    "          [93, 26],\n",
    "          [93, 25],\n",
    "          [92, 25],\n",
    "          [92, 26]]])\n",
    "N24E92 = ee.Geometry.Polygon(\n",
    "        [[[92, 25],\n",
    "          [93, 25],\n",
    "          [93, 24],\n",
    "          [92, 24],\n",
    "          [92, 25]]])\n",
    "N23E92 = ee.Geometry.Polygon(\n",
    "        [[[92, 24],\n",
    "          [93, 24],\n",
    "          [93, 23],\n",
    "          [92, 23],\n",
    "          [92, 24]]])\n",
    "N22E92 = ee.Geometry.Polygon(\n",
    "        [[[92, 23],\n",
    "          [93, 23],\n",
    "          [93, 22],\n",
    "          [92, 22],\n",
    "          [92, 23]]])\n",
    "N21E92 = ee.Geometry.Polygon(\n",
    "        [[[92, 22],\n",
    "          [93, 22],\n",
    "          [93, 21],\n",
    "          [92, 21],\n",
    "          [92, 22]]])\n",
    "N20E92 = ee.Geometry.Polygon(\n",
    "        [[[92, 21],\n",
    "          [93, 21],\n",
    "          [93, 20],\n",
    "          [92, 20],\n",
    "          [92, 21]]]) \n",
    "N23E90 = ee.Geometry.Polygon(\n",
    "        [[[90, 24],\n",
    "          [91, 24],\n",
    "          [91, 23],\n",
    "          [90, 23],\n",
    "          [90, 24]]])\n",
    "N22E90 = ee.Geometry.Polygon(\n",
    "        [[[90, 23],\n",
    "          [91, 23],\n",
    "          [91, 22],\n",
    "          [90, 22],\n",
    "          [90, 23]]])\n",
    "N21E90 = ee.Geometry.Polygon(\n",
    "        [[[90, 22],\n",
    "          [91, 22],\n",
    "          [91, 21],\n",
    "          [90, 21],\n",
    "          [90, 22]]])\n",
    "N25E91 = ee.Geometry.Polygon(\n",
    "        [[[91, 26],\n",
    "          [92, 26],\n",
    "          [92, 25],\n",
    "          [91, 25],\n",
    "          [91, 26]]])\n",
    "N24E91 = ee.Geometry.Polygon(\n",
    "        [[[91, 25],\n",
    "          [92, 25],\n",
    "          [92, 24],\n",
    "          [91, 24],\n",
    "          [91, 25]]])\n",
    "N23E91 = ee.Geometry.Polygon(\n",
    "        [[[91, 24],\n",
    "          [92, 24],\n",
    "          [92, 23],\n",
    "          [91, 23],\n",
    "          [91, 24]]])\n",
    "N22E91 = ee.Geometry.Polygon(\n",
    "        [[[91, 23],\n",
    "          [92, 23],\n",
    "          [92, 22],\n",
    "          [91, 22],\n",
    "          [91, 23]]])\n",
    "N21E91 = ee.Geometry.Polygon(\n",
    "        [[[91, 22],\n",
    "          [92, 22],\n",
    "          [92, 21],\n",
    "          [91, 21],\n",
    "          [91, 22]]])\n",
    "N25E92 = ee.Geometry.Polygon(\n",
    "        [[[92, 26],\n",
    "          [93, 26],\n",
    "          [93, 25],\n",
    "          [92, 25],\n",
    "          [92, 26]]])\n",
    "N24E92 = ee.Geometry.Polygon(\n",
    "        [[[92, 25],\n",
    "          [93, 25],\n",
    "          [93, 24],\n",
    "          [92, 24],\n",
    "          [92, 25]]])\n",
    "\n",
    "          \"\"\""
   ]
  },
  {
   "cell_type": "code",
   "execution_count": 105,
   "id": "bc36f795",
   "metadata": {},
   "outputs": [
    {
     "data": {
      "text/html": [
       "\n",
       "            <style>\n",
       "                .geemap-dark {\n",
       "                    --jp-widgets-color: white;\n",
       "                    --jp-widgets-label-color: white;\n",
       "                    --jp-ui-font-color1: white;\n",
       "                    --jp-layout-color2: #454545;\n",
       "                    background-color: #383838;\n",
       "                }\n",
       "\n",
       "                .geemap-dark .jupyter-button {\n",
       "                    --jp-layout-color3: #383838;\n",
       "                }\n",
       "\n",
       "                .geemap-colab {\n",
       "                    background-color: var(--colab-primary-surface-color, white);\n",
       "                }\n",
       "\n",
       "                .geemap-colab .jupyter-button {\n",
       "                    --jp-layout-color3: var(--colab-primary-surface-color, white);\n",
       "                }\n",
       "            </style>\n",
       "            "
      ],
      "text/plain": [
       "<IPython.core.display.HTML object>"
      ]
     },
     "metadata": {},
     "output_type": "display_data"
    },
    {
     "data": {
      "text/plain": [
       "'N22E92 = ee.Geometry.Polygon(\\n        [[[92, 23],\\n          [93, 23],\\n          [93, 22],\\n          [92, 22],\\n          [92, 23]]])\\nN21E92 = ee.Geometry.Polygon(\\n        [[[92, 22],\\n          [93, 22],\\n          [93, 21],\\n          [92, 21],\\n          [92, 22]]])  \\nN20E92 = ee.Geometry.Polygon(\\n        [[[92, 21],\\n          [93, 21],\\n          [93, 20],\\n          [92, 20],\\n          [92, 21]]]) '"
      ]
     },
     "execution_count": 105,
     "metadata": {},
     "output_type": "execute_result"
    }
   ],
   "source": [
    "\"\"\"N25E90 = ee.Geometry.Polygon(\n",
    "        [[[90, 26],\n",
    "          [91, 26],\n",
    "          [91, 25],\n",
    "          [90, 25],\n",
    "          [90, 26]]]) \n",
    "\n",
    "\n",
    "N23E92 = ee.Geometry.Polygon(\n",
    "        [[[92, 24],\n",
    "          [93, 24],\n",
    "          [93, 23],\n",
    "          [92, 23],\n",
    "          [92, 24]]])   \"\"\" \n",
    "\n",
    "\"\"\" N25E90_1 = ee.Geometry.Polygon(\n",
    "        [[[90, 26],\n",
    "          [91, 26],\n",
    "          [91, 25.5],\n",
    "          [90, 25.5],\n",
    "          [90, 26]]])\n",
    "N25E90_2 = ee.Geometry.Polygon(\n",
    "        [[[90, 25.5],\n",
    "          [91, 25.5],\n",
    "          [91, 25],\n",
    "          [90, 25],\n",
    "          [90, 25.5]]])\"\"\"\n",
    " \n",
    "\"\"\"N22E92 = ee.Geometry.Polygon(\n",
    "        [[[92, 23],\n",
    "          [93, 23],\n",
    "          [93, 22],\n",
    "          [92, 22],\n",
    "          [92, 23]]])\n",
    "N21E92 = ee.Geometry.Polygon(\n",
    "        [[[92, 22],\n",
    "          [93, 22],\n",
    "          [93, 21],\n",
    "          [92, 21],\n",
    "          [92, 22]]])  \n",
    "N20E92 = ee.Geometry.Polygon(\n",
    "        [[[92, 21],\n",
    "          [93, 21],\n",
    "          [93, 20],\n",
    "          [92, 20],\n",
    "          [92, 21]]]) \"\"\"\n"
   ]
  },
  {
   "cell_type": "code",
   "execution_count": 106,
   "id": "431fa991",
   "metadata": {},
   "outputs": [
    {
     "data": {
      "text/html": [
       "\n",
       "            <style>\n",
       "                .geemap-dark {\n",
       "                    --jp-widgets-color: white;\n",
       "                    --jp-widgets-label-color: white;\n",
       "                    --jp-ui-font-color1: white;\n",
       "                    --jp-layout-color2: #454545;\n",
       "                    background-color: #383838;\n",
       "                }\n",
       "\n",
       "                .geemap-dark .jupyter-button {\n",
       "                    --jp-layout-color3: #383838;\n",
       "                }\n",
       "\n",
       "                .geemap-colab {\n",
       "                    background-color: var(--colab-primary-surface-color, white);\n",
       "                }\n",
       "\n",
       "                .geemap-colab .jupyter-button {\n",
       "                    --jp-layout-color3: var(--colab-primary-surface-color, white);\n",
       "                }\n",
       "            </style>\n",
       "            "
      ],
      "text/plain": [
       "<IPython.core.display.HTML object>"
      ]
     },
     "metadata": {},
     "output_type": "display_data"
    }
   ],
   "source": [
    "def get_s2_sr_cld_col(aoi, start_date, end_date):\n",
    "    # Import and filter S2 SR.   \n",
    "    s2_sr_col = (ee.ImageCollection('COPERNICUS/S2_HARMONIZED')\n",
    "        .filterBounds(aoi)\n",
    "        .filterDate(start_date, end_date)\n",
    "        .filter(ee.Filter.lte('CLOUDY_PIXEL_PERCENTAGE', CLOUD_FILTER)))\n",
    "        \n",
    "    # Import and filter s2cloudless.\n",
    "    s2_cloudless_col = (ee.ImageCollection('COPERNICUS/S2_CLOUD_PROBABILITY')\n",
    "        .filterBounds(aoi)\n",
    "        .filterDate(start_date, end_date))\n",
    "\n",
    "    # Join the filtered s2cloudless collection to the SR collection by the 'system:index' property.\n",
    "    return ee.ImageCollection(ee.Join.saveFirst('s2cloudless').apply(**{\n",
    "        'primary': s2_sr_col,\n",
    "        'secondary': s2_cloudless_col,\n",
    "        'condition': ee.Filter.equals(**{\n",
    "            'leftField': 'system:index',\n",
    "            'rightField': 'system:index'\n",
    "        })\n",
    "    }))"
   ]
  },
  {
   "cell_type": "code",
   "execution_count": 107,
   "id": "1c69f817",
   "metadata": {},
   "outputs": [
    {
     "data": {
      "text/html": [
       "\n",
       "            <style>\n",
       "                .geemap-dark {\n",
       "                    --jp-widgets-color: white;\n",
       "                    --jp-widgets-label-color: white;\n",
       "                    --jp-ui-font-color1: white;\n",
       "                    --jp-layout-color2: #454545;\n",
       "                    background-color: #383838;\n",
       "                }\n",
       "\n",
       "                .geemap-dark .jupyter-button {\n",
       "                    --jp-layout-color3: #383838;\n",
       "                }\n",
       "\n",
       "                .geemap-colab {\n",
       "                    background-color: var(--colab-primary-surface-color, white);\n",
       "                }\n",
       "\n",
       "                .geemap-colab .jupyter-button {\n",
       "                    --jp-layout-color3: var(--colab-primary-surface-color, white);\n",
       "                }\n",
       "            </style>\n",
       "            "
      ],
      "text/plain": [
       "<IPython.core.display.HTML object>"
      ]
     },
     "metadata": {},
     "output_type": "display_data"
    }
   ],
   "source": [
    "def add_cloud_bands(img):\n",
    "    # Get s2cloudless image, subset the probability band.\n",
    "    cld_prb = ee.Image(img.get('s2cloudless')).select('probability')\n",
    "\n",
    "    # Condition s2cloudless by the probability threshold value.\n",
    "    is_cloud = cld_prb.gt(CLD_PRB_THRESH).rename('clouds')\n",
    "\n",
    "    # Add the cloud probability layer and cloud mask as image bands.\n",
    "    return img.addBands(ee.Image([cld_prb, is_cloud]))"
   ]
  },
  {
   "cell_type": "code",
   "execution_count": 108,
   "id": "d196eca5",
   "metadata": {},
   "outputs": [
    {
     "data": {
      "text/html": [
       "\n",
       "            <style>\n",
       "                .geemap-dark {\n",
       "                    --jp-widgets-color: white;\n",
       "                    --jp-widgets-label-color: white;\n",
       "                    --jp-ui-font-color1: white;\n",
       "                    --jp-layout-color2: #454545;\n",
       "                    background-color: #383838;\n",
       "                }\n",
       "\n",
       "                .geemap-dark .jupyter-button {\n",
       "                    --jp-layout-color3: #383838;\n",
       "                }\n",
       "\n",
       "                .geemap-colab {\n",
       "                    background-color: var(--colab-primary-surface-color, white);\n",
       "                }\n",
       "\n",
       "                .geemap-colab .jupyter-button {\n",
       "                    --jp-layout-color3: var(--colab-primary-surface-color, white);\n",
       "                }\n",
       "            </style>\n",
       "            "
      ],
      "text/plain": [
       "<IPython.core.display.HTML object>"
      ]
     },
     "metadata": {},
     "output_type": "display_data"
    }
   ],
   "source": [
    "def add_shadow_bands(img):\n",
    "    # Identify water pixels from the SCL band.\n",
    "#     not_water = img.select('SCL').neq(6)\n",
    "\n",
    "    # Identify dark NIR pixels that are not water (potential cloud shadow pixels).\n",
    "    SR_BAND_SCALE = 1e4\n",
    "#     dark_pixels = img.select('B8').lt(NIR_DRK_THRESH*SR_BAND_SCALE).multiply(not_water).rename('dark_pixels')\n",
    "    dark_pixels = img.select('B8').lt(NIR_DRK_THRESH*SR_BAND_SCALE).rename('dark_pixels')\n",
    "\n",
    "    # Determine the direction to project cloud shadow from clouds (assumes UTM projection).\n",
    "    shadow_azimuth = ee.Number(90).subtract(ee.Number(img.get('MEAN_SOLAR_AZIMUTH_ANGLE')))\n",
    "\n",
    "    # Project shadows from clouds for the distance specified by the CLD_PRJ_DIST input.\n",
    "    cld_proj = (img.select('clouds').directionalDistanceTransform(shadow_azimuth, CLD_PRJ_DIST*10)\n",
    "        .reproject(**{'crs': img.select(0).projection(), 'scale': 100})\n",
    "        .select('distance')\n",
    "        .mask()\n",
    "        .rename('cloud_transform'))\n",
    "\n",
    "    # Identify the intersection of dark pixels with cloud shadow projection.\n",
    "    shadows = cld_proj.multiply(dark_pixels).rename('shadows')\n",
    "\n",
    "    # Add dark pixels, cloud projection, and identified shadows as image bands.\n",
    "    return img.addBands(ee.Image([dark_pixels, cld_proj, shadows]))"
   ]
  },
  {
   "cell_type": "code",
   "execution_count": 109,
   "id": "c38b128d",
   "metadata": {},
   "outputs": [
    {
     "data": {
      "text/html": [
       "\n",
       "            <style>\n",
       "                .geemap-dark {\n",
       "                    --jp-widgets-color: white;\n",
       "                    --jp-widgets-label-color: white;\n",
       "                    --jp-ui-font-color1: white;\n",
       "                    --jp-layout-color2: #454545;\n",
       "                    background-color: #383838;\n",
       "                }\n",
       "\n",
       "                .geemap-dark .jupyter-button {\n",
       "                    --jp-layout-color3: #383838;\n",
       "                }\n",
       "\n",
       "                .geemap-colab {\n",
       "                    background-color: var(--colab-primary-surface-color, white);\n",
       "                }\n",
       "\n",
       "                .geemap-colab .jupyter-button {\n",
       "                    --jp-layout-color3: var(--colab-primary-surface-color, white);\n",
       "                }\n",
       "            </style>\n",
       "            "
      ],
      "text/plain": [
       "<IPython.core.display.HTML object>"
      ]
     },
     "metadata": {},
     "output_type": "display_data"
    }
   ],
   "source": [
    "def add_cld_shdw_mask(img):\n",
    "    # Add cloud component bands.\n",
    "    img_cloud = add_cloud_bands(img)\n",
    "\n",
    "    # Add cloud shadow component bands.\n",
    "    img_cloud_shadow = add_shadow_bands(img_cloud)\n",
    "\n",
    "    # Combine cloud and shadow mask, set cloud and shadow as value 1, else 0.\n",
    "    is_cld_shdw = img_cloud_shadow.select('clouds').add(img_cloud_shadow.select('shadows')).gt(0)\n",
    "\n",
    "    # Remove small cloud-shadow patches and dilate remaining pixels by BUFFER input.\n",
    "    # 20 m scale is for speed, and assumes clouds don't require 10 m precision.\n",
    "    is_cld_shdw = (is_cld_shdw.focalMin(2).focalMax(BUFFER*2/20)\n",
    "        .reproject(**{'crs': img.select([0]).projection(), 'scale': 20})\n",
    "        .rename('cloudmask'))\n",
    "\n",
    "    # Add the final cloud-shadow mask to the image.\n",
    "    return img_cloud_shadow.addBands(is_cld_shdw)"
   ]
  },
  {
   "cell_type": "code",
   "execution_count": 110,
   "id": "f2122413",
   "metadata": {},
   "outputs": [
    {
     "data": {
      "text/html": [
       "\n",
       "            <style>\n",
       "                .geemap-dark {\n",
       "                    --jp-widgets-color: white;\n",
       "                    --jp-widgets-label-color: white;\n",
       "                    --jp-ui-font-color1: white;\n",
       "                    --jp-layout-color2: #454545;\n",
       "                    background-color: #383838;\n",
       "                }\n",
       "\n",
       "                .geemap-dark .jupyter-button {\n",
       "                    --jp-layout-color3: #383838;\n",
       "                }\n",
       "\n",
       "                .geemap-colab {\n",
       "                    background-color: var(--colab-primary-surface-color, white);\n",
       "                }\n",
       "\n",
       "                .geemap-colab .jupyter-button {\n",
       "                    --jp-layout-color3: var(--colab-primary-surface-color, white);\n",
       "                }\n",
       "            </style>\n",
       "            "
      ],
      "text/plain": [
       "<IPython.core.display.HTML object>"
      ]
     },
     "metadata": {},
     "output_type": "display_data"
    }
   ],
   "source": [
    "def apply_cld_shdw_mask(img):\n",
    "    # Subset the cloudmask band and invert it so clouds/shadow are 0, else 1.\n",
    "    not_cld_shdw = img.select('cloudmask').Not()\n",
    "\n",
    "    # Subset reflectance bands and update their masks, return the result.\n",
    "    return img.select('B.*').updateMask(not_cld_shdw)"
   ]
  },
  {
   "cell_type": "code",
   "execution_count": 111,
   "id": "53152731",
   "metadata": {},
   "outputs": [
    {
     "data": {
      "text/html": [
       "\n",
       "            <style>\n",
       "                .geemap-dark {\n",
       "                    --jp-widgets-color: white;\n",
       "                    --jp-widgets-label-color: white;\n",
       "                    --jp-ui-font-color1: white;\n",
       "                    --jp-layout-color2: #454545;\n",
       "                    background-color: #383838;\n",
       "                }\n",
       "\n",
       "                .geemap-dark .jupyter-button {\n",
       "                    --jp-layout-color3: #383838;\n",
       "                }\n",
       "\n",
       "                .geemap-colab {\n",
       "                    background-color: var(--colab-primary-surface-color, white);\n",
       "                }\n",
       "\n",
       "                .geemap-colab .jupyter-button {\n",
       "                    --jp-layout-color3: var(--colab-primary-surface-color, white);\n",
       "                }\n",
       "            </style>\n",
       "            "
      ],
      "text/plain": [
       "<IPython.core.display.HTML object>"
      ]
     },
     "metadata": {},
     "output_type": "display_data"
    }
   ],
   "source": [
    "# Define a method for displaying Earth Engine image tiles to a folium map.\n",
    "def add_ee_layer(ee_image_object, vis_params, name, show=True, opacity=1, min_zoom=0):\n",
    "    map_id_dict = ee.Image(ee_image_object).getMapId(vis_params)\n",
    "    folium.raster_layers.TileLayer(\n",
    "        tiles=map_id_dict['tile_fetcher'].url_format,\n",
    "        attr='Map Data &copy <a href=\"https://earthengine.google.com/\">Google Earth Engine</a>',\n",
    "        name=name,\n",
    "        show=show,\n",
    "        opacity=opacity,\n",
    "        min_zoom=min_zoom,\n",
    "        overlay=True,\n",
    "        control=True\n",
    "        ).add_to(self)"
   ]
  },
  {
   "cell_type": "code",
   "execution_count": 112,
   "id": "345683a7",
   "metadata": {},
   "outputs": [
    {
     "data": {
      "text/html": [
       "\n",
       "            <style>\n",
       "                .geemap-dark {\n",
       "                    --jp-widgets-color: white;\n",
       "                    --jp-widgets-label-color: white;\n",
       "                    --jp-ui-font-color1: white;\n",
       "                    --jp-layout-color2: #454545;\n",
       "                    background-color: #383838;\n",
       "                }\n",
       "\n",
       "                .geemap-dark .jupyter-button {\n",
       "                    --jp-layout-color3: #383838;\n",
       "                }\n",
       "\n",
       "                .geemap-colab {\n",
       "                    background-color: var(--colab-primary-surface-color, white);\n",
       "                }\n",
       "\n",
       "                .geemap-colab .jupyter-button {\n",
       "                    --jp-layout-color3: var(--colab-primary-surface-color, white);\n",
       "                }\n",
       "            </style>\n",
       "            "
      ],
      "text/plain": [
       "<IPython.core.display.HTML object>"
      ]
     },
     "metadata": {},
     "output_type": "display_data"
    }
   ],
   "source": [
    "def fill_nodata(img_t0, img_t1):\n",
    "    mask_t0 = img_t0.unmask(0)\n",
    "    mask_t1 = img_t1.unmask(0)    \n",
    "    t0_filled = mask_t0.where(mask_t0.eq(0), img_t1)\n",
    "    return ee.Image(t0_filled)"
   ]
  },
  {
   "cell_type": "code",
   "execution_count": 113,
   "id": "46ee25fd",
   "metadata": {},
   "outputs": [
    {
     "data": {
      "text/html": [
       "\n",
       "            <style>\n",
       "                .geemap-dark {\n",
       "                    --jp-widgets-color: white;\n",
       "                    --jp-widgets-label-color: white;\n",
       "                    --jp-ui-font-color1: white;\n",
       "                    --jp-layout-color2: #454545;\n",
       "                    background-color: #383838;\n",
       "                }\n",
       "\n",
       "                .geemap-dark .jupyter-button {\n",
       "                    --jp-layout-color3: #383838;\n",
       "                }\n",
       "\n",
       "                .geemap-colab {\n",
       "                    background-color: var(--colab-primary-surface-color, white);\n",
       "                }\n",
       "\n",
       "                .geemap-colab .jupyter-button {\n",
       "                    --jp-layout-color3: var(--colab-primary-surface-color, white);\n",
       "                }\n",
       "            </style>\n",
       "            "
      ],
      "text/plain": [
       "<IPython.core.display.HTML object>"
      ]
     },
     "metadata": {},
     "output_type": "display_data"
    }
   ],
   "source": [
    "# list of region of interest\n",
    "#aoi = [N26E88,N25E88,N24E88,N23E88,N22E88,N26E89,N25E89,N24E89,N23E89,N22E89,N21E89,N24E90,N23E90,N22E90,N21E90,N25E91,N24E91,N23E91,N22E91,N21E91,N25E92,N24E92,N22E92,N21E92,N20E92]  \n",
    "# N25E90, N23E92,showing problem\n",
    "aoi = [ N25E90_1, N25E90_2]"
   ]
  },
  {
   "cell_type": "code",
   "execution_count": 114,
   "id": "a541a252",
   "metadata": {},
   "outputs": [
    {
     "data": {
      "text/html": [
       "\n",
       "            <style>\n",
       "                .geemap-dark {\n",
       "                    --jp-widgets-color: white;\n",
       "                    --jp-widgets-label-color: white;\n",
       "                    --jp-ui-font-color1: white;\n",
       "                    --jp-layout-color2: #454545;\n",
       "                    background-color: #383838;\n",
       "                }\n",
       "\n",
       "                .geemap-dark .jupyter-button {\n",
       "                    --jp-layout-color3: #383838;\n",
       "                }\n",
       "\n",
       "                .geemap-colab {\n",
       "                    background-color: var(--colab-primary-surface-color, white);\n",
       "                }\n",
       "\n",
       "                .geemap-colab .jupyter-button {\n",
       "                    --jp-layout-color3: var(--colab-primary-surface-color, white);\n",
       "                }\n",
       "            </style>\n",
       "            "
      ],
      "text/plain": [
       "<IPython.core.display.HTML object>"
      ]
     },
     "metadata": {},
     "output_type": "display_data"
    }
   ],
   "source": [
    "# define the period for searching data\n",
    "year1 = '2021'\n",
    "year2 = '2022'\n",
    "year3 = '2023'\n",
    "\n",
    "# year 1\n",
    "START_y1 = ee.Date(year1 + '-01-01');\n",
    "END_y1 = ee.Date(year1 + '-12-31');\n",
    "start01_y1 = ee.Date(year1 + '-01-01');\n",
    "end01_y1 = ee.Date(year1 + '-01-31');\n",
    "start02_y1 = ee.Date(year1 + '-02-01');\n",
    "end02_y1 = ee.Date(year1 + '-02-28');\n",
    "start03_y1 = ee.Date(year1 + '-03-01');\n",
    "end03_y1 = ee.Date(year1 + '-03-31');\n",
    "start04_y1 = ee.Date(year1 + '-04-01');\n",
    "end04_y1 = ee.Date(year1 + '-04-30');\n",
    "start05_y1 = ee.Date(year1 + '-05-01');\n",
    "end05_y1 = ee.Date(year1 + '-05-31');\n",
    "start06_y1 = ee.Date(year1 + '-06-01');\n",
    "end06_y1 = ee.Date(year1 + '-06-30');\n",
    "start07_y1 = ee.Date(year1 + '-07-01');\n",
    "end07_y1 = ee.Date(year1 + '-07-31');\n",
    "start08_y1 = ee.Date(year1 + '-08-01');\n",
    "end08_y1 = ee.Date(year1 + '-08-31');\n",
    "start09_y1 = ee.Date(year1 + '-09-01');\n",
    "end09_y1 = ee.Date(year1 + '-09-30');\n",
    "start10_y1 = ee.Date(year1 + '-10-01');\n",
    "end10_y1 = ee.Date(year1 + '-10-31');\n",
    "start11_y1 = ee.Date(year1 + '-11-01');\n",
    "end11_y1 = ee.Date(year1 + '-11-30');\n",
    "start12_y1 = ee.Date(year1 + '-12-01');\n",
    "end12_y1 = ee.Date(year1 + '-12-31');\n",
    "\n",
    "# year 2\n",
    "START_y2 = ee.Date(year2 + '-01-01');\n",
    "END_y2 = ee.Date(year2 + '-12-31');\n",
    "start01_y2 = ee.Date(year2 + '-01-01');\n",
    "end01_y2 = ee.Date(year2 + '-01-31');\n",
    "start02_y2 = ee.Date(year2 + '-02-01');\n",
    "end02_y2 = ee.Date(year2 + '-02-28');\n",
    "start03_y2 = ee.Date(year2 + '-03-01');\n",
    "end03_y2 = ee.Date(year2 + '-03-31');\n",
    "start04_y2 = ee.Date(year2 + '-04-01');\n",
    "end04_y2 = ee.Date(year2 + '-04-30');\n",
    "start05_y2 = ee.Date(year2 + '-05-01');\n",
    "end05_y2 = ee.Date(year2 + '-05-31');\n",
    "start06_y2 = ee.Date(year2 + '-06-01');\n",
    "end06_y2 = ee.Date(year2 + '-06-30');\n",
    "start07_y2 = ee.Date(year2 + '-07-01');\n",
    "end07_y2 = ee.Date(year2 + '-07-31');\n",
    "start08_y2 = ee.Date(year2 + '-08-01');\n",
    "end08_y2 = ee.Date(year2 + '-08-31');\n",
    "start09_y2 = ee.Date(year2 + '-09-01');\n",
    "end09_y2 = ee.Date(year2 + '-09-30');\n",
    "start10_y2 = ee.Date(year2 + '-10-01');\n",
    "end10_y2 = ee.Date(year2 + '-10-31');\n",
    "start11_y2 = ee.Date(year2 + '-11-01');\n",
    "end11_y2 = ee.Date(year2 + '-11-30');\n",
    "start12_y2 = ee.Date(year2 + '-12-01');\n",
    "end12_y2 = ee.Date(year2 + '-12-31');\n",
    "\n",
    "# year 3\n",
    "START_y3 = ee.Date(year3 + '-01-01');\n",
    "END_y3 = ee.Date(year3 + '-12-31');\n",
    "start01_y3 = ee.Date(year3 + '-01-01');\n",
    "end01_y3 = ee.Date(year3 + '-01-31');\n",
    "start02_y3 = ee.Date(year3 + '-02-01');\n",
    "end02_y3 = ee.Date(year3 + '-02-28');\n",
    "start03_y3 = ee.Date(year3 + '-03-01');\n",
    "end03_y3 = ee.Date(year3 + '-03-31');\n",
    "start04_y3 = ee.Date(year3 + '-04-01');\n",
    "end04_y3 = ee.Date(year3 + '-04-30');\n",
    "start05_y3 = ee.Date(year3 + '-05-01');\n",
    "end05_y3 = ee.Date(year3 + '-05-31');\n",
    "start06_y3 = ee.Date(year3 + '-06-01');\n",
    "end06_y3 = ee.Date(year3 + '-06-30');\n",
    "start07_y3 = ee.Date(year3 + '-07-01');\n",
    "end07_y3 = ee.Date(year3 + '-07-31');\n",
    "start08_y3 = ee.Date(year3 + '-08-01');\n",
    "end08_y3 = ee.Date(year3 + '-08-31');\n",
    "start09_y3 = ee.Date(year3 + '-09-01');\n",
    "end09_y3 = ee.Date(year3 + '-09-30');\n",
    "start10_y3 = ee.Date(year3 + '-10-01');\n",
    "end10_y3 = ee.Date(year3 + '-10-31');\n",
    "start11_y3 = ee.Date(year3 + '-11-01');\n",
    "end11_y3 = ee.Date(year3 + '-11-30');\n",
    "start12_y3 = ee.Date(year3 + '-12-01');\n",
    "end12_y3 = ee.Date(year3 + '-12-31');"
   ]
  },
  {
   "cell_type": "code",
   "execution_count": 115,
   "id": "1ef62157",
   "metadata": {},
   "outputs": [
    {
     "data": {
      "text/html": [
       "\n",
       "            <style>\n",
       "                .geemap-dark {\n",
       "                    --jp-widgets-color: white;\n",
       "                    --jp-widgets-label-color: white;\n",
       "                    --jp-ui-font-color1: white;\n",
       "                    --jp-layout-color2: #454545;\n",
       "                    background-color: #383838;\n",
       "                }\n",
       "\n",
       "                .geemap-dark .jupyter-button {\n",
       "                    --jp-layout-color3: #383838;\n",
       "                }\n",
       "\n",
       "                .geemap-colab {\n",
       "                    background-color: var(--colab-primary-surface-color, white);\n",
       "                }\n",
       "\n",
       "                .geemap-colab .jupyter-button {\n",
       "                    --jp-layout-color3: var(--colab-primary-surface-color, white);\n",
       "                }\n",
       "            </style>\n",
       "            "
      ],
      "text/plain": [
       "<IPython.core.display.HTML object>"
      ]
     },
     "metadata": {},
     "output_type": "display_data"
    }
   ],
   "source": [
    "starts_y1 = [start01_y1, start02_y1, start03_y1, start04_y1, start05_y1, start06_y1, start07_y1, start08_y1, start09_y1, start10_y1, start11_y1, start12_y1]\n",
    "starts_y2 = [start01_y2, start02_y2, start03_y2, start04_y2, start05_y2, start06_y2, start07_y2, start08_y2, start09_y2, start10_y2, start11_y2, start12_y2]\n",
    "starts_y3 = [start01_y3, start02_y3, start03_y3, start04_y3, start05_y3, start06_y3, start07_y3, start08_y3, start09_y3, start10_y3, start11_y3, start12_y3]"
   ]
  },
  {
   "cell_type": "code",
   "execution_count": 116,
   "id": "f899777e",
   "metadata": {},
   "outputs": [
    {
     "data": {
      "text/html": [
       "\n",
       "            <style>\n",
       "                .geemap-dark {\n",
       "                    --jp-widgets-color: white;\n",
       "                    --jp-widgets-label-color: white;\n",
       "                    --jp-ui-font-color1: white;\n",
       "                    --jp-layout-color2: #454545;\n",
       "                    background-color: #383838;\n",
       "                }\n",
       "\n",
       "                .geemap-dark .jupyter-button {\n",
       "                    --jp-layout-color3: #383838;\n",
       "                }\n",
       "\n",
       "                .geemap-colab {\n",
       "                    background-color: var(--colab-primary-surface-color, white);\n",
       "                }\n",
       "\n",
       "                .geemap-colab .jupyter-button {\n",
       "                    --jp-layout-color3: var(--colab-primary-surface-color, white);\n",
       "                }\n",
       "            </style>\n",
       "            "
      ],
      "text/plain": [
       "<IPython.core.display.HTML object>"
      ]
     },
     "metadata": {},
     "output_type": "display_data"
    }
   ],
   "source": [
    "ends_y1 = [end01_y1, end02_y1, end03_y1, end04_y1, end05_y1, end06_y1, end07_y1, end08_y1, end09_y1, end10_y1, end11_y1, end12_y1]\n",
    "ends_y2 = [end01_y2, end02_y2, end03_y2, end04_y2, end05_y2, end06_y2, end07_y2, end08_y2, end09_y2, end10_y2, end11_y2, end12_y2]\n",
    "ends_y3 = [end01_y3, end02_y3, end03_y3, end04_y3, end05_y3, end06_y3, end07_y3, end08_y3, end09_y3, end10_y3, end11_y3, end12_y3]"
   ]
  },
  {
   "cell_type": "code",
   "execution_count": 117,
   "id": "7308694a",
   "metadata": {},
   "outputs": [
    {
     "data": {
      "text/html": [
       "\n",
       "            <style>\n",
       "                .geemap-dark {\n",
       "                    --jp-widgets-color: white;\n",
       "                    --jp-widgets-label-color: white;\n",
       "                    --jp-ui-font-color1: white;\n",
       "                    --jp-layout-color2: #454545;\n",
       "                    background-color: #383838;\n",
       "                }\n",
       "\n",
       "                .geemap-dark .jupyter-button {\n",
       "                    --jp-layout-color3: #383838;\n",
       "                }\n",
       "\n",
       "                .geemap-colab {\n",
       "                    background-color: var(--colab-primary-surface-color, white);\n",
       "                }\n",
       "\n",
       "                .geemap-colab .jupyter-button {\n",
       "                    --jp-layout-color3: var(--colab-primary-surface-color, white);\n",
       "                }\n",
       "            </style>\n",
       "            "
      ],
      "text/plain": [
       "<IPython.core.display.HTML object>"
      ]
     },
     "metadata": {},
     "output_type": "display_data"
    }
   ],
   "source": [
    "months = [\"01\", \"02\", \"03\", \"04\", \"05\", \"06\", \"07\", \"08\", \"09\", \"10\", \"11\", \"12\"]"
   ]
  },
  {
   "cell_type": "code",
   "execution_count": 118,
   "id": "85347c26",
   "metadata": {},
   "outputs": [
    {
     "data": {
      "text/html": [
       "\n",
       "            <style>\n",
       "                .geemap-dark {\n",
       "                    --jp-widgets-color: white;\n",
       "                    --jp-widgets-label-color: white;\n",
       "                    --jp-ui-font-color1: white;\n",
       "                    --jp-layout-color2: #454545;\n",
       "                    background-color: #383838;\n",
       "                }\n",
       "\n",
       "                .geemap-dark .jupyter-button {\n",
       "                    --jp-layout-color3: #383838;\n",
       "                }\n",
       "\n",
       "                .geemap-colab {\n",
       "                    background-color: var(--colab-primary-surface-color, white);\n",
       "                }\n",
       "\n",
       "                .geemap-colab .jupyter-button {\n",
       "                    --jp-layout-color3: var(--colab-primary-surface-color, white);\n",
       "                }\n",
       "            </style>\n",
       "            "
      ],
      "text/plain": [
       "<IPython.core.display.HTML object>"
      ]
     },
     "metadata": {},
     "output_type": "display_data"
    }
   ],
   "source": [
    "#[N26E88,N25E88,N24E88,N23E88,N22E88,N26E89,N25E89,N24E89,N23E89,N22E89,N21E89,N25E90,'N24E90','N23E90','N22E90','N21E90','N25E91','N24E91','N23E91','N22E91','N21E91','N25E92','N24E92','N22E92','N21E92','N20E92'] \n",
    "# 'N25E90', 'N23E92' showing problem\n",
    "\n",
    "tile = ['N25E90_1', 'N25E90_2']"
   ]
  },
  {
   "cell_type": "code",
   "execution_count": 119,
   "id": "e69a29e2",
   "metadata": {},
   "outputs": [
    {
     "data": {
      "text/html": [
       "\n",
       "            <style>\n",
       "                .geemap-dark {\n",
       "                    --jp-widgets-color: white;\n",
       "                    --jp-widgets-label-color: white;\n",
       "                    --jp-ui-font-color1: white;\n",
       "                    --jp-layout-color2: #454545;\n",
       "                    background-color: #383838;\n",
       "                }\n",
       "\n",
       "                .geemap-dark .jupyter-button {\n",
       "                    --jp-layout-color3: #383838;\n",
       "                }\n",
       "\n",
       "                .geemap-colab {\n",
       "                    background-color: var(--colab-primary-surface-color, white);\n",
       "                }\n",
       "\n",
       "                .geemap-colab .jupyter-button {\n",
       "                    --jp-layout-color3: var(--colab-primary-surface-color, white);\n",
       "                }\n",
       "            </style>\n",
       "            "
      ],
      "text/plain": [
       "<IPython.core.display.HTML object>"
      ]
     },
     "metadata": {},
     "output_type": "display_data"
    }
   ],
   "source": [
    "#import geetools"
   ]
  },
  {
   "cell_type": "code",
   "execution_count": 120,
   "id": "8821e398",
   "metadata": {},
   "outputs": [
    {
     "data": {
      "text/html": [
       "\n",
       "            <style>\n",
       "                .geemap-dark {\n",
       "                    --jp-widgets-color: white;\n",
       "                    --jp-widgets-label-color: white;\n",
       "                    --jp-ui-font-color1: white;\n",
       "                    --jp-layout-color2: #454545;\n",
       "                    background-color: #383838;\n",
       "                }\n",
       "\n",
       "                .geemap-dark .jupyter-button {\n",
       "                    --jp-layout-color3: #383838;\n",
       "                }\n",
       "\n",
       "                .geemap-colab {\n",
       "                    background-color: var(--colab-primary-surface-color, white);\n",
       "                }\n",
       "\n",
       "                .geemap-colab .jupyter-button {\n",
       "                    --jp-layout-color3: var(--colab-primary-surface-color, white);\n",
       "                }\n",
       "            </style>\n",
       "            "
      ],
      "text/plain": [
       "<IPython.core.display.HTML object>"
      ]
     },
     "metadata": {},
     "output_type": "display_data"
    }
   ],
   "source": [
    "import os"
   ]
  },
  {
   "cell_type": "code",
   "execution_count": 121,
   "id": "773915a5",
   "metadata": {},
   "outputs": [
    {
     "data": {
      "text/html": [
       "\n",
       "            <style>\n",
       "                .geemap-dark {\n",
       "                    --jp-widgets-color: white;\n",
       "                    --jp-widgets-label-color: white;\n",
       "                    --jp-ui-font-color1: white;\n",
       "                    --jp-layout-color2: #454545;\n",
       "                    background-color: #383838;\n",
       "                }\n",
       "\n",
       "                .geemap-dark .jupyter-button {\n",
       "                    --jp-layout-color3: #383838;\n",
       "                }\n",
       "\n",
       "                .geemap-colab {\n",
       "                    background-color: var(--colab-primary-surface-color, white);\n",
       "                }\n",
       "\n",
       "                .geemap-colab .jupyter-button {\n",
       "                    --jp-layout-color3: var(--colab-primary-surface-color, white);\n",
       "                }\n",
       "            </style>\n",
       "            "
      ],
      "text/plain": [
       "<IPython.core.display.HTML object>"
      ]
     },
     "metadata": {},
     "output_type": "display_data"
    }
   ],
   "source": [
    "import geemap"
   ]
  },
  {
   "cell_type": "code",
   "execution_count": 122,
   "id": "d2156007",
   "metadata": {},
   "outputs": [
    {
     "data": {
      "text/html": [
       "\n",
       "            <style>\n",
       "                .geemap-dark {\n",
       "                    --jp-widgets-color: white;\n",
       "                    --jp-widgets-label-color: white;\n",
       "                    --jp-ui-font-color1: white;\n",
       "                    --jp-layout-color2: #454545;\n",
       "                    background-color: #383838;\n",
       "                }\n",
       "\n",
       "                .geemap-dark .jupyter-button {\n",
       "                    --jp-layout-color3: #383838;\n",
       "                }\n",
       "\n",
       "                .geemap-colab {\n",
       "                    background-color: var(--colab-primary-surface-color, white);\n",
       "                }\n",
       "\n",
       "                .geemap-colab .jupyter-button {\n",
       "                    --jp-layout-color3: var(--colab-primary-surface-color, white);\n",
       "                }\n",
       "            </style>\n",
       "            "
      ],
      "text/plain": [
       "<IPython.core.display.HTML object>"
      ]
     },
     "metadata": {},
     "output_type": "display_data"
    }
   ],
   "source": [
    "from googleapiclient import errors"
   ]
  },
  {
   "cell_type": "code",
   "execution_count": 123,
   "id": "02af5cff",
   "metadata": {},
   "outputs": [
    {
     "data": {
      "text/html": [
       "\n",
       "            <style>\n",
       "                .geemap-dark {\n",
       "                    --jp-widgets-color: white;\n",
       "                    --jp-widgets-label-color: white;\n",
       "                    --jp-ui-font-color1: white;\n",
       "                    --jp-layout-color2: #454545;\n",
       "                    background-color: #383838;\n",
       "                }\n",
       "\n",
       "                .geemap-dark .jupyter-button {\n",
       "                    --jp-layout-color3: #383838;\n",
       "                }\n",
       "\n",
       "                .geemap-colab {\n",
       "                    background-color: var(--colab-primary-surface-color, white);\n",
       "                }\n",
       "\n",
       "                .geemap-colab .jupyter-button {\n",
       "                    --jp-layout-color3: var(--colab-primary-surface-color, white);\n",
       "                }\n",
       "            </style>\n",
       "            "
      ],
      "text/plain": [
       "<IPython.core.display.HTML object>"
      ]
     },
     "metadata": {},
     "output_type": "display_data"
    }
   ],
   "source": [
    "from IPython.display import Image"
   ]
  },
  {
   "cell_type": "code",
   "execution_count": 124,
   "id": "8289f05e",
   "metadata": {},
   "outputs": [
    {
     "data": {
      "text/html": [
       "\n",
       "            <style>\n",
       "                .geemap-dark {\n",
       "                    --jp-widgets-color: white;\n",
       "                    --jp-widgets-label-color: white;\n",
       "                    --jp-ui-font-color1: white;\n",
       "                    --jp-layout-color2: #454545;\n",
       "                    background-color: #383838;\n",
       "                }\n",
       "\n",
       "                .geemap-dark .jupyter-button {\n",
       "                    --jp-layout-color3: #383838;\n",
       "                }\n",
       "\n",
       "                .geemap-colab {\n",
       "                    background-color: var(--colab-primary-surface-color, white);\n",
       "                }\n",
       "\n",
       "                .geemap-colab .jupyter-button {\n",
       "                    --jp-layout-color3: var(--colab-primary-surface-color, white);\n",
       "                }\n",
       "            </style>\n",
       "            "
      ],
      "text/plain": [
       "<IPython.core.display.HTML object>"
      ]
     },
     "metadata": {},
     "output_type": "display_data"
    },
    {
     "name": "stdout",
     "output_type": "stream",
     "text": [
      "Defaulting to user installation because normal site-packages is not writeable\n",
      "Requirement already satisfied: geedim in /home/dibakar/.local/lib/python3.10/site-packages (1.8.0)\n",
      "Requirement already satisfied: tqdm>=4.6 in /home/dibakar/.local/lib/python3.10/site-packages (from geedim) (4.66.2)\n",
      "Requirement already satisfied: numpy>=1.19 in /home/dibakar/.local/lib/python3.10/site-packages (from geedim) (1.26.4)\n",
      "Requirement already satisfied: tabulate>=0.8 in /home/dibakar/.local/lib/python3.10/site-packages (from geedim) (0.9.0)\n",
      "Requirement already satisfied: earthengine-api>=0.1.2 in /home/dibakar/.local/lib/python3.10/site-packages (from geedim) (0.1.411)\n",
      "Requirement already satisfied: requests>=2.2 in /usr/local/lib/python3.10/dist-packages (from geedim) (2.32.3)\n",
      "Requirement already satisfied: click>=8 in /usr/lib/python3/dist-packages (from geedim) (8.0.3)\n",
      "Requirement already satisfied: rasterio>=1.1 in /home/dibakar/.local/lib/python3.10/site-packages (from geedim) (1.3.10)\n",
      "Requirement already satisfied: google-api-python-client>=1.12.1 in /home/dibakar/.local/lib/python3.10/site-packages (from earthengine-api>=0.1.2->geedim) (2.137.0)\n",
      "Requirement already satisfied: google-auth>=1.4.1 in /home/dibakar/.local/lib/python3.10/site-packages (from earthengine-api>=0.1.2->geedim) (2.32.0)\n",
      "Requirement already satisfied: google-auth-httplib2>=0.0.3 in /home/dibakar/.local/lib/python3.10/site-packages (from earthengine-api>=0.1.2->geedim) (0.2.0)\n",
      "Requirement already satisfied: httplib2<1dev,>=0.9.2 in /usr/lib/python3/dist-packages (from earthengine-api>=0.1.2->geedim) (0.20.2)\n",
      "Requirement already satisfied: google-cloud-storage in /home/dibakar/.local/lib/python3.10/site-packages (from earthengine-api>=0.1.2->geedim) (2.17.0)\n",
      "Requirement already satisfied: cligj>=0.5 in /home/dibakar/.local/lib/python3.10/site-packages (from rasterio>=1.1->geedim) (0.7.2)\n",
      "Requirement already satisfied: click-plugins in /home/dibakar/.local/lib/python3.10/site-packages (from rasterio>=1.1->geedim) (1.1.1)\n",
      "Requirement already satisfied: attrs in /usr/local/lib/python3.10/dist-packages (from rasterio>=1.1->geedim) (23.2.0)\n",
      "Requirement already satisfied: snuggs>=1.4.1 in /home/dibakar/.local/lib/python3.10/site-packages (from rasterio>=1.1->geedim) (1.4.7)\n",
      "Requirement already satisfied: setuptools in /usr/lib/python3/dist-packages (from rasterio>=1.1->geedim) (59.6.0)\n",
      "Requirement already satisfied: certifi in /usr/lib/python3/dist-packages (from rasterio>=1.1->geedim) (2020.6.20)\n",
      "Requirement already satisfied: affine in /home/dibakar/.local/lib/python3.10/site-packages (from rasterio>=1.1->geedim) (2.4.0)\n",
      "Requirement already satisfied: idna<4,>=2.5 in /usr/lib/python3/dist-packages (from requests>=2.2->geedim) (3.3)\n",
      "Requirement already satisfied: urllib3<3,>=1.21.1 in /usr/lib/python3/dist-packages (from requests>=2.2->geedim) (1.26.5)\n",
      "Requirement already satisfied: charset-normalizer<4,>=2 in /usr/local/lib/python3.10/dist-packages (from requests>=2.2->geedim) (3.3.2)\n",
      "Requirement already satisfied: uritemplate<5,>=3.0.1 in /home/dibakar/.local/lib/python3.10/site-packages (from google-api-python-client>=1.12.1->earthengine-api>=0.1.2->geedim) (4.1.1)\n",
      "Requirement already satisfied: google-api-core!=2.0.*,!=2.1.*,!=2.2.*,!=2.3.0,<3.0.0.dev0,>=1.31.5 in /home/dibakar/.local/lib/python3.10/site-packages (from google-api-python-client>=1.12.1->earthengine-api>=0.1.2->geedim) (2.19.1)\n",
      "Requirement already satisfied: rsa<5,>=3.1.4 in /home/dibakar/.local/lib/python3.10/site-packages (from google-auth>=1.4.1->earthengine-api>=0.1.2->geedim) (4.9)\n",
      "Requirement already satisfied: cachetools<6.0,>=2.0.0 in /home/dibakar/.local/lib/python3.10/site-packages (from google-auth>=1.4.1->earthengine-api>=0.1.2->geedim) (5.3.3)\n",
      "Requirement already satisfied: pyasn1-modules>=0.2.1 in /home/dibakar/.local/lib/python3.10/site-packages (from google-auth>=1.4.1->earthengine-api>=0.1.2->geedim) (0.4.0)\n",
      "Requirement already satisfied: pyparsing!=3.0.0,!=3.0.1,!=3.0.2,!=3.0.3,<4,>=2.4.2 in /usr/lib/python3/dist-packages (from httplib2<1dev,>=0.9.2->earthengine-api>=0.1.2->geedim) (2.4.7)\n",
      "Requirement already satisfied: google-cloud-core<3.0dev,>=2.3.0 in /home/dibakar/.local/lib/python3.10/site-packages (from google-cloud-storage->earthengine-api>=0.1.2->geedim) (2.4.1)\n",
      "Requirement already satisfied: google-crc32c<2.0dev,>=1.0 in /home/dibakar/.local/lib/python3.10/site-packages (from google-cloud-storage->earthengine-api>=0.1.2->geedim) (1.5.0)\n",
      "Requirement already satisfied: google-resumable-media>=2.6.0 in /home/dibakar/.local/lib/python3.10/site-packages (from google-cloud-storage->earthengine-api>=0.1.2->geedim) (2.7.1)\n",
      "Requirement already satisfied: proto-plus<2.0.0dev,>=1.22.3 in /home/dibakar/.local/lib/python3.10/site-packages (from google-api-core!=2.0.*,!=2.1.*,!=2.2.*,!=2.3.0,<3.0.0.dev0,>=1.31.5->google-api-python-client>=1.12.1->earthengine-api>=0.1.2->geedim) (1.24.0)\n",
      "Requirement already satisfied: protobuf!=3.20.0,!=3.20.1,!=4.21.0,!=4.21.1,!=4.21.2,!=4.21.3,!=4.21.4,!=4.21.5,<6.0.0.dev0,>=3.19.5 in /home/dibakar/.local/lib/python3.10/site-packages (from google-api-core!=2.0.*,!=2.1.*,!=2.2.*,!=2.3.0,<3.0.0.dev0,>=1.31.5->google-api-python-client>=1.12.1->earthengine-api>=0.1.2->geedim) (5.27.2)\n",
      "Requirement already satisfied: googleapis-common-protos<2.0.dev0,>=1.56.2 in /home/dibakar/.local/lib/python3.10/site-packages (from google-api-core!=2.0.*,!=2.1.*,!=2.2.*,!=2.3.0,<3.0.0.dev0,>=1.31.5->google-api-python-client>=1.12.1->earthengine-api>=0.1.2->geedim) (1.63.2)\n",
      "Requirement already satisfied: pyasn1<0.7.0,>=0.4.6 in /home/dibakar/.local/lib/python3.10/site-packages (from pyasn1-modules>=0.2.1->google-auth>=1.4.1->earthengine-api>=0.1.2->geedim) (0.6.0)\n",
      "Note: you may need to restart the kernel to use updated packages.\n"
     ]
    }
   ],
   "source": [
    "pip install geedim"
   ]
  },
  {
   "cell_type": "code",
   "execution_count": 125,
   "id": "0db6ff09",
   "metadata": {},
   "outputs": [
    {
     "data": {
      "text/html": [
       "\n",
       "            <style>\n",
       "                .geemap-dark {\n",
       "                    --jp-widgets-color: white;\n",
       "                    --jp-widgets-label-color: white;\n",
       "                    --jp-ui-font-color1: white;\n",
       "                    --jp-layout-color2: #454545;\n",
       "                    background-color: #383838;\n",
       "                }\n",
       "\n",
       "                .geemap-dark .jupyter-button {\n",
       "                    --jp-layout-color3: #383838;\n",
       "                }\n",
       "\n",
       "                .geemap-colab {\n",
       "                    background-color: var(--colab-primary-surface-color, white);\n",
       "                }\n",
       "\n",
       "                .geemap-colab .jupyter-button {\n",
       "                    --jp-layout-color3: var(--colab-primary-surface-color, white);\n",
       "                }\n",
       "            </style>\n",
       "            "
      ],
      "text/plain": [
       "<IPython.core.display.HTML object>"
      ]
     },
     "metadata": {},
     "output_type": "display_data"
    },
    {
     "name": "stderr",
     "output_type": "stream",
     "text": [
      "Consider adjusting `region`, `scale` and/or `dtype` to reduce the N25E90_1_10m_01-01_median.tif download size (raw: 1.99 GB).\n"
     ]
    },
    {
     "data": {
      "application/vnd.jupyter.widget-view+json": {
       "model_id": "670c4a7cba7f4cf89062808d6d376d1b",
       "version_major": 2,
       "version_minor": 0
      },
      "text/plain": [
       "N25E90_1_10m_01-01_median.tif: |          | 0.00/1.99G (raw) [  0.0%] in 00:00 (eta:     ?)"
      ]
     },
     "metadata": {},
     "output_type": "display_data"
    },
    {
     "name": "stderr",
     "output_type": "stream",
     "text": [
      "There is no STAC entry for: None\n",
      "Consider adjusting `region`, `scale` and/or `dtype` to reduce the N25E90_1_10m_03-01_median.tif download size (raw: 1.99 GB).\n"
     ]
    },
    {
     "data": {
      "application/vnd.jupyter.widget-view+json": {
       "model_id": "54bf01d903a74b75a600ecb0c8961ccd",
       "version_major": 2,
       "version_minor": 0
      },
      "text/plain": [
       "N25E90_1_10m_03-01_median.tif: |          | 0.00/1.99G (raw) [  0.0%] in 00:00 (eta:     ?)"
      ]
     },
     "metadata": {},
     "output_type": "display_data"
    },
    {
     "name": "stderr",
     "output_type": "stream",
     "text": [
      "Consider adjusting `region`, `scale` and/or `dtype` to reduce the N25E90_1_10m_05-01_median.tif download size (raw: 1.99 GB).\n"
     ]
    },
    {
     "data": {
      "application/vnd.jupyter.widget-view+json": {
       "model_id": "7f64629ba1d04b44ad7e5609d7db746a",
       "version_major": 2,
       "version_minor": 0
      },
      "text/plain": [
       "N25E90_1_10m_05-01_median.tif: |          | 0.00/1.99G (raw) [  0.0%] in 00:00 (eta:     ?)"
      ]
     },
     "metadata": {},
     "output_type": "display_data"
    },
    {
     "name": "stderr",
     "output_type": "stream",
     "text": [
      "Consider adjusting `region`, `scale` and/or `dtype` to reduce the N25E90_1_10m_07-01_median.tif download size (raw: 1.99 GB).\n"
     ]
    },
    {
     "data": {
      "application/vnd.jupyter.widget-view+json": {
       "model_id": "b5b805d282d94227b2da0de507f85937",
       "version_major": 2,
       "version_minor": 0
      },
      "text/plain": [
       "N25E90_1_10m_07-01_median.tif: |          | 0.00/1.99G (raw) [  0.0%] in 00:00 (eta:     ?)"
      ]
     },
     "metadata": {},
     "output_type": "display_data"
    },
    {
     "name": "stderr",
     "output_type": "stream",
     "text": [
      "Consider adjusting `region`, `scale` and/or `dtype` to reduce the N25E90_1_10m_09-01_median.tif download size (raw: 1.99 GB).\n"
     ]
    },
    {
     "data": {
      "application/vnd.jupyter.widget-view+json": {
       "model_id": "358b7230112e4c6fa309f841296ff596",
       "version_major": 2,
       "version_minor": 0
      },
      "text/plain": [
       "N25E90_1_10m_09-01_median.tif: |          | 0.00/1.99G (raw) [  0.0%] in 00:00 (eta:     ?)"
      ]
     },
     "metadata": {},
     "output_type": "display_data"
    },
    {
     "name": "stderr",
     "output_type": "stream",
     "text": [
      "Consider adjusting `region`, `scale` and/or `dtype` to reduce the N25E90_1_10m_11-01_median.tif download size (raw: 1.99 GB).\n"
     ]
    },
    {
     "data": {
      "application/vnd.jupyter.widget-view+json": {
       "model_id": "1d1ed08ca74a4336b5d32a5991810a1d",
       "version_major": 2,
       "version_minor": 0
      },
      "text/plain": [
       "N25E90_1_10m_11-01_median.tif: |          | 0.00/1.99G (raw) [  0.0%] in 00:00 (eta:     ?)"
      ]
     },
     "metadata": {},
     "output_type": "display_data"
    },
    {
     "data": {
      "application/vnd.jupyter.widget-view+json": {
       "model_id": "450c37d59adf4570bec80ee0c34aacde",
       "version_major": 2,
       "version_minor": 0
      },
      "text/plain": [
       "N25E90_1_20m_01-01_median.tif: |          | 0.00/745M (raw) [  0.0%] in 00:00 (eta:     ?)"
      ]
     },
     "metadata": {},
     "output_type": "display_data"
    },
    {
     "data": {
      "application/vnd.jupyter.widget-view+json": {
       "model_id": "0711f31bebf14bf987ea378e2f927970",
       "version_major": 2,
       "version_minor": 0
      },
      "text/plain": [
       "N25E90_1_20m_03-01_median.tif: |          | 0.00/745M (raw) [  0.0%] in 00:00 (eta:     ?)"
      ]
     },
     "metadata": {},
     "output_type": "display_data"
    },
    {
     "data": {
      "application/vnd.jupyter.widget-view+json": {
       "model_id": "880da2cbd00e4f63b4865d820cffe413",
       "version_major": 2,
       "version_minor": 0
      },
      "text/plain": [
       "N25E90_1_20m_05-01_median.tif: |          | 0.00/745M (raw) [  0.0%] in 00:00 (eta:     ?)"
      ]
     },
     "metadata": {},
     "output_type": "display_data"
    },
    {
     "data": {
      "application/vnd.jupyter.widget-view+json": {
       "model_id": "00e135ce4ebe45349c9be7b94a68d90b",
       "version_major": 2,
       "version_minor": 0
      },
      "text/plain": [
       "N25E90_1_20m_07-01_median.tif: |          | 0.00/745M (raw) [  0.0%] in 00:00 (eta:     ?)"
      ]
     },
     "metadata": {},
     "output_type": "display_data"
    },
    {
     "data": {
      "application/vnd.jupyter.widget-view+json": {
       "model_id": "829dee694cf0443ea8d1ed8edf101799",
       "version_major": 2,
       "version_minor": 0
      },
      "text/plain": [
       "N25E90_1_20m_09-01_median.tif: |          | 0.00/745M (raw) [  0.0%] in 00:00 (eta:     ?)"
      ]
     },
     "metadata": {},
     "output_type": "display_data"
    },
    {
     "data": {
      "application/vnd.jupyter.widget-view+json": {
       "model_id": "dc5cdd07af4b4a0f9fab57aa567a9cda",
       "version_major": 2,
       "version_minor": 0
      },
      "text/plain": [
       "N25E90_1_20m_11-01_median.tif: |          | 0.00/745M (raw) [  0.0%] in 00:00 (eta:     ?)"
      ]
     },
     "metadata": {},
     "output_type": "display_data"
    },
    {
     "ename": "TileError",
     "evalue": "Error downloading tile: Computation timed out. URL: https://earthengine.googleapis.com/v1/projects/earthengine-legacy/thumbnails/1fa0c8a1e69f57fc01604a73fcb09e1a-2cb7bb5a75617b6a8da7a8aacc1c0e73:getPixels.",
     "output_type": "error",
     "traceback": [
      "\u001b[0;31m---------------------------------------------------------------------------\u001b[0m",
      "\u001b[0;31mTileError\u001b[0m                                 Traceback (most recent call last)",
      "Cell \u001b[0;32mIn[125], line 107\u001b[0m\n\u001b[1;32m    105\u001b[0m geemap\u001b[38;5;241m.\u001b[39mdownload_ee_image(img_07_20m_y2, name_20m_07, region\u001b[38;5;241m=\u001b[39maoi[i], crs\u001b[38;5;241m=\u001b[39m\u001b[38;5;124m\"\u001b[39m\u001b[38;5;124mEPSG:4326\u001b[39m\u001b[38;5;124m\"\u001b[39m, scale\u001b[38;5;241m=\u001b[39m\u001b[38;5;241m20\u001b[39m)\n\u001b[1;32m    106\u001b[0m geemap\u001b[38;5;241m.\u001b[39mdownload_ee_image(img_09_20m_y2, name_20m_09, region\u001b[38;5;241m=\u001b[39maoi[i], crs\u001b[38;5;241m=\u001b[39m\u001b[38;5;124m\"\u001b[39m\u001b[38;5;124mEPSG:4326\u001b[39m\u001b[38;5;124m\"\u001b[39m, scale\u001b[38;5;241m=\u001b[39m\u001b[38;5;241m20\u001b[39m)\n\u001b[0;32m--> 107\u001b[0m \u001b[43mgeemap\u001b[49m\u001b[38;5;241;43m.\u001b[39;49m\u001b[43mdownload_ee_image\u001b[49m\u001b[43m(\u001b[49m\u001b[43mimg_11_20m_y2\u001b[49m\u001b[43m,\u001b[49m\u001b[43m \u001b[49m\u001b[43mname_20m_11\u001b[49m\u001b[43m,\u001b[49m\u001b[43m \u001b[49m\u001b[43mregion\u001b[49m\u001b[38;5;241;43m=\u001b[39;49m\u001b[43maoi\u001b[49m\u001b[43m[\u001b[49m\u001b[43mi\u001b[49m\u001b[43m]\u001b[49m\u001b[43m,\u001b[49m\u001b[43m \u001b[49m\u001b[43mcrs\u001b[49m\u001b[38;5;241;43m=\u001b[39;49m\u001b[38;5;124;43m\"\u001b[39;49m\u001b[38;5;124;43mEPSG:4326\u001b[39;49m\u001b[38;5;124;43m\"\u001b[39;49m\u001b[43m,\u001b[49m\u001b[43m \u001b[49m\u001b[43mscale\u001b[49m\u001b[38;5;241;43m=\u001b[39;49m\u001b[38;5;241;43m20\u001b[39;49m\u001b[43m)\u001b[49m\n",
      "File \u001b[0;32m~/.local/lib/python3.10/site-packages/geemap/common.py:12925\u001b[0m, in \u001b[0;36mdownload_ee_image\u001b[0;34m(image, filename, region, crs, crs_transform, scale, resampling, dtype, overwrite, num_threads, max_tile_size, max_tile_dim, shape, scale_offset, unmask_value, **kwargs)\u001b[0m\n\u001b[1;32m  12922\u001b[0m     kwargs[\u001b[38;5;124m\"\u001b[39m\u001b[38;5;124mscale_offset\u001b[39m\u001b[38;5;124m\"\u001b[39m] \u001b[38;5;241m=\u001b[39m scale_offset\n\u001b[1;32m  12924\u001b[0m img \u001b[38;5;241m=\u001b[39m gd\u001b[38;5;241m.\u001b[39mdownload\u001b[38;5;241m.\u001b[39mBaseImage(image)\n\u001b[0;32m> 12925\u001b[0m \u001b[43mimg\u001b[49m\u001b[38;5;241;43m.\u001b[39;49m\u001b[43mdownload\u001b[49m\u001b[43m(\u001b[49m\u001b[43mfilename\u001b[49m\u001b[43m,\u001b[49m\u001b[43m \u001b[49m\u001b[43moverwrite\u001b[49m\u001b[38;5;241;43m=\u001b[39;49m\u001b[43moverwrite\u001b[49m\u001b[43m,\u001b[49m\u001b[43m \u001b[49m\u001b[43mnum_threads\u001b[49m\u001b[38;5;241;43m=\u001b[39;49m\u001b[43mnum_threads\u001b[49m\u001b[43m,\u001b[49m\u001b[43m \u001b[49m\u001b[38;5;241;43m*\u001b[39;49m\u001b[38;5;241;43m*\u001b[39;49m\u001b[43mkwargs\u001b[49m\u001b[43m)\u001b[49m\n",
      "File \u001b[0;32m~/.local/lib/python3.10/site-packages/geedim/download.py:1001\u001b[0m, in \u001b[0;36mBaseImage.download\u001b[0;34m(self, filename, overwrite, num_threads, max_tile_size, max_tile_dim, **kwargs)\u001b[0m\n\u001b[1;32m    999\u001b[0m         logger\u001b[38;5;241m.\u001b[39minfo(\u001b[38;5;124mf\u001b[39m\u001b[38;5;124m'\u001b[39m\u001b[38;5;124mException: \u001b[39m\u001b[38;5;132;01m{\u001b[39;00m\u001b[38;5;28mstr\u001b[39m(ex)\u001b[38;5;132;01m}\u001b[39;00m\u001b[38;5;130;01m\\n\u001b[39;00m\u001b[38;5;124mCancelling...\u001b[39m\u001b[38;5;124m'\u001b[39m)\n\u001b[1;32m   1000\u001b[0m         executor\u001b[38;5;241m.\u001b[39mshutdown(wait\u001b[38;5;241m=\u001b[39m\u001b[38;5;28;01mFalse\u001b[39;00m, cancel_futures\u001b[38;5;241m=\u001b[39m\u001b[38;5;28;01mTrue\u001b[39;00m)\n\u001b[0;32m-> 1001\u001b[0m         \u001b[38;5;28;01mraise\u001b[39;00m ex\n\u001b[1;32m   1003\u001b[0m bar\u001b[38;5;241m.\u001b[39mupdate(bar\u001b[38;5;241m.\u001b[39mtotal \u001b[38;5;241m-\u001b[39m bar\u001b[38;5;241m.\u001b[39mn)  \u001b[38;5;66;03m# ensure the bar reaches 100%\u001b[39;00m\n\u001b[1;32m   1004\u001b[0m \u001b[38;5;66;03m# populate GeoTIFF metadata\u001b[39;00m\n",
      "File \u001b[0;32m~/.local/lib/python3.10/site-packages/geedim/download.py:997\u001b[0m, in \u001b[0;36mBaseImage.download\u001b[0;34m(self, filename, overwrite, num_threads, max_tile_size, max_tile_dim, **kwargs)\u001b[0m\n\u001b[1;32m    995\u001b[0m \u001b[38;5;28;01mtry\u001b[39;00m:\n\u001b[1;32m    996\u001b[0m     \u001b[38;5;28;01mfor\u001b[39;00m future \u001b[38;5;129;01min\u001b[39;00m as_completed(futures):\n\u001b[0;32m--> 997\u001b[0m         \u001b[43mfuture\u001b[49m\u001b[38;5;241;43m.\u001b[39;49m\u001b[43mresult\u001b[49m\u001b[43m(\u001b[49m\u001b[43m)\u001b[49m\n\u001b[1;32m    998\u001b[0m \u001b[38;5;28;01mexcept\u001b[39;00m \u001b[38;5;167;01mException\u001b[39;00m \u001b[38;5;28;01mas\u001b[39;00m ex:\n\u001b[1;32m    999\u001b[0m     logger\u001b[38;5;241m.\u001b[39minfo(\u001b[38;5;124mf\u001b[39m\u001b[38;5;124m'\u001b[39m\u001b[38;5;124mException: \u001b[39m\u001b[38;5;132;01m{\u001b[39;00m\u001b[38;5;28mstr\u001b[39m(ex)\u001b[38;5;132;01m}\u001b[39;00m\u001b[38;5;130;01m\\n\u001b[39;00m\u001b[38;5;124mCancelling...\u001b[39m\u001b[38;5;124m'\u001b[39m)\n",
      "File \u001b[0;32m/usr/lib/python3.10/concurrent/futures/_base.py:451\u001b[0m, in \u001b[0;36mFuture.result\u001b[0;34m(self, timeout)\u001b[0m\n\u001b[1;32m    449\u001b[0m     \u001b[38;5;28;01mraise\u001b[39;00m CancelledError()\n\u001b[1;32m    450\u001b[0m \u001b[38;5;28;01melif\u001b[39;00m \u001b[38;5;28mself\u001b[39m\u001b[38;5;241m.\u001b[39m_state \u001b[38;5;241m==\u001b[39m FINISHED:\n\u001b[0;32m--> 451\u001b[0m     \u001b[38;5;28;01mreturn\u001b[39;00m \u001b[38;5;28;43mself\u001b[39;49m\u001b[38;5;241;43m.\u001b[39;49m\u001b[43m__get_result\u001b[49m\u001b[43m(\u001b[49m\u001b[43m)\u001b[49m\n\u001b[1;32m    453\u001b[0m \u001b[38;5;28mself\u001b[39m\u001b[38;5;241m.\u001b[39m_condition\u001b[38;5;241m.\u001b[39mwait(timeout)\n\u001b[1;32m    455\u001b[0m \u001b[38;5;28;01mif\u001b[39;00m \u001b[38;5;28mself\u001b[39m\u001b[38;5;241m.\u001b[39m_state \u001b[38;5;129;01min\u001b[39;00m [CANCELLED, CANCELLED_AND_NOTIFIED]:\n",
      "File \u001b[0;32m/usr/lib/python3.10/concurrent/futures/_base.py:403\u001b[0m, in \u001b[0;36mFuture.__get_result\u001b[0;34m(self)\u001b[0m\n\u001b[1;32m    401\u001b[0m \u001b[38;5;28;01mif\u001b[39;00m \u001b[38;5;28mself\u001b[39m\u001b[38;5;241m.\u001b[39m_exception:\n\u001b[1;32m    402\u001b[0m     \u001b[38;5;28;01mtry\u001b[39;00m:\n\u001b[0;32m--> 403\u001b[0m         \u001b[38;5;28;01mraise\u001b[39;00m \u001b[38;5;28mself\u001b[39m\u001b[38;5;241m.\u001b[39m_exception\n\u001b[1;32m    404\u001b[0m     \u001b[38;5;28;01mfinally\u001b[39;00m:\n\u001b[1;32m    405\u001b[0m         \u001b[38;5;66;03m# Break a reference cycle with the exception in self._exception\u001b[39;00m\n\u001b[1;32m    406\u001b[0m         \u001b[38;5;28mself\u001b[39m \u001b[38;5;241m=\u001b[39m \u001b[38;5;28;01mNone\u001b[39;00m\n",
      "File \u001b[0;32m/usr/lib/python3.10/concurrent/futures/thread.py:58\u001b[0m, in \u001b[0;36m_WorkItem.run\u001b[0;34m(self)\u001b[0m\n\u001b[1;32m     55\u001b[0m     \u001b[38;5;28;01mreturn\u001b[39;00m\n\u001b[1;32m     57\u001b[0m \u001b[38;5;28;01mtry\u001b[39;00m:\n\u001b[0;32m---> 58\u001b[0m     result \u001b[38;5;241m=\u001b[39m \u001b[38;5;28;43mself\u001b[39;49m\u001b[38;5;241;43m.\u001b[39;49m\u001b[43mfn\u001b[49m\u001b[43m(\u001b[49m\u001b[38;5;241;43m*\u001b[39;49m\u001b[38;5;28;43mself\u001b[39;49m\u001b[38;5;241;43m.\u001b[39;49m\u001b[43margs\u001b[49m\u001b[43m,\u001b[49m\u001b[43m \u001b[49m\u001b[38;5;241;43m*\u001b[39;49m\u001b[38;5;241;43m*\u001b[39;49m\u001b[38;5;28;43mself\u001b[39;49m\u001b[38;5;241;43m.\u001b[39;49m\u001b[43mkwargs\u001b[49m\u001b[43m)\u001b[49m\n\u001b[1;32m     59\u001b[0m \u001b[38;5;28;01mexcept\u001b[39;00m \u001b[38;5;167;01mBaseException\u001b[39;00m \u001b[38;5;28;01mas\u001b[39;00m exc:\n\u001b[1;32m     60\u001b[0m     \u001b[38;5;28mself\u001b[39m\u001b[38;5;241m.\u001b[39mfuture\u001b[38;5;241m.\u001b[39mset_exception(exc)\n",
      "File \u001b[0;32m~/.local/lib/python3.10/site-packages/geedim/download.py:987\u001b[0m, in \u001b[0;36mBaseImage.download.<locals>.download_tile\u001b[0;34m(tile)\u001b[0m\n\u001b[1;32m    985\u001b[0m \u001b[38;5;28;01mdef\u001b[39;00m \u001b[38;5;21mdownload_tile\u001b[39m(tile):\n\u001b[1;32m    986\u001b[0m     \u001b[38;5;124;03m\"\"\"Download a tile and write into the destination GeoTIFF.\"\"\"\u001b[39;00m\n\u001b[0;32m--> 987\u001b[0m     tile_array \u001b[38;5;241m=\u001b[39m \u001b[43mtile\u001b[49m\u001b[38;5;241;43m.\u001b[39;49m\u001b[43mdownload\u001b[49m\u001b[43m(\u001b[49m\u001b[43msession\u001b[49m\u001b[38;5;241;43m=\u001b[39;49m\u001b[43msession\u001b[49m\u001b[43m,\u001b[49m\u001b[43m \u001b[49m\u001b[43mbar\u001b[49m\u001b[38;5;241;43m=\u001b[39;49m\u001b[43mbar\u001b[49m\u001b[43m)\u001b[49m\n\u001b[1;32m    988\u001b[0m     \u001b[38;5;28;01mwith\u001b[39;00m out_lock:\n\u001b[1;32m    989\u001b[0m         out_ds\u001b[38;5;241m.\u001b[39mwrite(tile_array, window\u001b[38;5;241m=\u001b[39mtile\u001b[38;5;241m.\u001b[39mwindow)\n",
      "File \u001b[0;32m~/.local/lib/python3.10/site-packages/geedim/tile.py:184\u001b[0m, in \u001b[0;36mTile.download\u001b[0;34m(self, session, bar, max_retries, backoff_factor)\u001b[0m\n\u001b[1;32m    182\u001b[0m \u001b[38;5;28;01mfor\u001b[39;00m retry \u001b[38;5;129;01min\u001b[39;00m \u001b[38;5;28mrange\u001b[39m(max_retries \u001b[38;5;241m+\u001b[39m \u001b[38;5;241m1\u001b[39m):\n\u001b[1;32m    183\u001b[0m     \u001b[38;5;28;01mtry\u001b[39;00m:\n\u001b[0;32m--> 184\u001b[0m         array \u001b[38;5;241m=\u001b[39m \u001b[38;5;28;43mself\u001b[39;49m\u001b[38;5;241;43m.\u001b[39;49m\u001b[43m_download_to_array\u001b[49m\u001b[43m(\u001b[49m\u001b[43murl\u001b[49m\u001b[43m,\u001b[49m\u001b[43m \u001b[49m\u001b[43msession\u001b[49m\u001b[38;5;241;43m=\u001b[39;49m\u001b[43msession\u001b[49m\u001b[43m,\u001b[49m\u001b[43m \u001b[49m\u001b[43mbar\u001b[49m\u001b[38;5;241;43m=\u001b[39;49m\u001b[43mbar\u001b[49m\u001b[43m)\u001b[49m\n\u001b[1;32m    185\u001b[0m         \u001b[38;5;28;01mbreak\u001b[39;00m\n\u001b[1;32m    187\u001b[0m     \u001b[38;5;28;01mexcept\u001b[39;00m (RequestException, zipfile\u001b[38;5;241m.\u001b[39mBadZipfile) \u001b[38;5;28;01mas\u001b[39;00m ex:\n",
      "File \u001b[0;32m~/.local/lib/python3.10/site-packages/geedim/tile.py:94\u001b[0m, in \u001b[0;36mTile._download_to_array\u001b[0;34m(self, url, session, bar)\u001b[0m\n\u001b[1;32m     91\u001b[0m response \u001b[38;5;241m=\u001b[39m session\u001b[38;5;241m.\u001b[39mget(url, stream\u001b[38;5;241m=\u001b[39m\u001b[38;5;28;01mTrue\u001b[39;00m, timeout\u001b[38;5;241m=\u001b[39m(\u001b[38;5;241m30\u001b[39m, \u001b[38;5;241m300\u001b[39m))\n\u001b[1;32m     93\u001b[0m \u001b[38;5;66;03m# raise a TileError if the tile cannot be downloaded\u001b[39;00m\n\u001b[0;32m---> 94\u001b[0m \u001b[38;5;28;43mself\u001b[39;49m\u001b[38;5;241;43m.\u001b[39;49m\u001b[43m_raise_for_status\u001b[49m\u001b[43m(\u001b[49m\u001b[43mresponse\u001b[49m\u001b[43m)\u001b[49m\n\u001b[1;32m     96\u001b[0m \u001b[38;5;66;03m# find raw download size\u001b[39;00m\n\u001b[1;32m     97\u001b[0m download_size \u001b[38;5;241m=\u001b[39m \u001b[38;5;28mint\u001b[39m(response\u001b[38;5;241m.\u001b[39mheaders\u001b[38;5;241m.\u001b[39mget(\u001b[38;5;124m'\u001b[39m\u001b[38;5;124mcontent-length\u001b[39m\u001b[38;5;124m'\u001b[39m, \u001b[38;5;241m0\u001b[39m))\n",
      "File \u001b[0;32m~/.local/lib/python3.10/site-packages/geedim/tile.py:85\u001b[0m, in \u001b[0;36mTile._raise_for_status\u001b[0;34m(response)\u001b[0m\n\u001b[1;32m     82\u001b[0m \u001b[38;5;28;01mexcept\u001b[39;00m JSONDecodeError:\n\u001b[1;32m     83\u001b[0m     \u001b[38;5;28;01mpass\u001b[39;00m\n\u001b[0;32m---> 85\u001b[0m \u001b[38;5;28;01mraise\u001b[39;00m TileError(msg)\n",
      "\u001b[0;31mTileError\u001b[0m: Error downloading tile: Computation timed out. URL: https://earthengine.googleapis.com/v1/projects/earthengine-legacy/thumbnails/1fa0c8a1e69f57fc01604a73fcb09e1a-2cb7bb5a75617b6a8da7a8aacc1c0e73:getPixels."
     ]
    }
   ],
   "source": [
    "# median composite image using new approach of images from 2019,2020,2021\n",
    "# parameters list\n",
    "NIR_DRK_THRESH = 0.15\n",
    "CLD_PRJ_DIST = 2\n",
    "BUFFER = 100\n",
    "CLOUD_FILTER = 30\n",
    "CLD_PRB_THRESH = 60\n",
    "for i in range(0,60):\n",
    "    imgListy1 = []\n",
    "    imgListy2 = []\n",
    "    imgListy3 = []\n",
    "    for j in range(0,12):       \n",
    "        #select images for year 1\n",
    "        s2_sr_cld_col_y1 = get_s2_sr_cld_col(aoi[i], starts_y1[j], ends_y1[j])\n",
    "        s2_sr_add_mask_y1 = s2_sr_cld_col_y1.map(add_cld_shdw_mask)\n",
    "        s2_sr_mask_y1 = s2_sr_add_mask_y1.map(apply_cld_shdw_mask)\n",
    "        imgListy1.append(s2_sr_mask_y1)\n",
    "        \n",
    "        #select images for year 2\n",
    "        s2_sr_cld_col_y2 = get_s2_sr_cld_col(aoi[i], starts_y2[j], ends_y2[j])\n",
    "        s2_sr_add_mask_y2 = s2_sr_cld_col_y2.map(add_cld_shdw_mask)\n",
    "        s2_sr_mask_y2 = s2_sr_add_mask_y2.map(apply_cld_shdw_mask) \n",
    "        imgListy2.append(s2_sr_mask_y2)\n",
    "        \n",
    "        #select images for year 3\n",
    "        s2_sr_cld_col_y3 = get_s2_sr_cld_col(aoi[i], starts_y3[j], ends_y3[j])\n",
    "        s2_sr_add_mask_y3 = s2_sr_cld_col_y3.map(add_cld_shdw_mask)\n",
    "        s2_sr_mask_y3 = s2_sr_add_mask_y3.map(apply_cld_shdw_mask)\n",
    "        imgListy3.append(s2_sr_mask_y3)\n",
    "       \n",
    "    img_01_y2 = imgListy2[0].merge(imgListy2[0]).merge(imgListy2[0]).merge(imgListy2[1]).merge(imgListy2[1]).merge(imgListy2[1]).merge(imgListy2[2]).merge(imgListy1[0]).merge(imgListy1[1]).merge(imgListy3[0]).merge(imgListy3[1]).median()\n",
    "    img_03_y2 = imgListy2[2].merge(imgListy2[2]).merge(imgListy2[2]).merge(imgListy2[3]).merge(imgListy2[3]).merge(imgListy2[3]).merge(imgListy2[1]).merge(imgListy2[4]).merge(imgListy1[2]).merge(imgListy1[3]).merge(imgListy3[2]).merge(imgListy3[3]).median()\n",
    "    img_05_y2 = imgListy2[4].merge(imgListy2[4]).merge(imgListy2[4]).merge(imgListy2[5]).merge(imgListy2[5]).merge(imgListy2[5]).merge(imgListy2[3]).merge(imgListy2[6]).merge(imgListy1[3]).merge(imgListy1[4]).merge(imgListy1[5]).merge(imgListy1[6]).merge(imgListy3[3]).merge(imgListy3[4]).merge(imgListy3[5]).merge(imgListy3[6]).median()\n",
    "    img_07_y2 = imgListy2[6].merge(imgListy2[6]).merge(imgListy2[6]).merge(imgListy2[7]).merge(imgListy2[7]).merge(imgListy2[7]).merge(imgListy2[5]).merge(imgListy2[8]).merge(imgListy1[5]).merge(imgListy1[6]).merge(imgListy1[7]).merge(imgListy1[8]).merge(imgListy3[5]).merge(imgListy3[6]).merge(imgListy3[7]).merge(imgListy3[8]).median()\n",
    "    img_09_y2 = imgListy2[8].merge(imgListy2[8]).merge(imgListy2[8]).merge(imgListy2[9]).merge(imgListy2[9]).merge(imgListy2[9]).merge(imgListy2[7]).merge(imgListy2[10]).merge(imgListy1[7]).merge(imgListy1[8]).merge(imgListy1[9]).merge(imgListy1[10]).merge(imgListy3[7]).merge(imgListy3[8]).merge(imgListy3[9]).merge(imgListy3[10]).median()\n",
    "    img_11_y2 = imgListy2[10].merge(imgListy2[10]).merge(imgListy2[10]).merge(imgListy2[11]).merge(imgListy2[11]).merge(imgListy2[11]).merge(imgListy2[9]).merge(imgListy1[10]).merge(imgListy1[11]).merge(imgListy3[10]).merge(imgListy3[11]).median()\n",
    "       \n",
    "    \n",
    "    img_01_10m_y2 = img_01_y2.select(['B2', 'B3', 'B4', 'B8'])\n",
    "    img_01_20m_y2 = img_01_y2.select(['B5', 'B6', 'B7', 'B8A', 'B11', 'B12'])\n",
    "    \n",
    "    img_03_10m_y2 = img_03_y2.select(['B2', 'B3', 'B4', 'B8'])\n",
    "    img_03_20m_y2 = img_03_y2.select(['B5', 'B6', 'B7', 'B8A', 'B11', 'B12'])\n",
    "    \n",
    "    img_05_10m_y2 = img_05_y2.select(['B2', 'B3', 'B4', 'B8'])\n",
    "    img_05_20m_y2 = img_05_y2.select(['B5', 'B6', 'B7', 'B8A', 'B11', 'B12'])\n",
    "    \n",
    "    img_07_10m_y2 = img_07_y2.select(['B2', 'B3', 'B4', 'B8'])\n",
    "    img_07_20m_y2 = img_07_y2.select(['B5', 'B6', 'B7', 'B8A', 'B11', 'B12'])\n",
    "    \n",
    "    img_09_10m_y2 = img_09_y2.select(['B2', 'B3', 'B4', 'B8'])\n",
    "    img_09_20m_y2 = img_09_y2.select(['B5', 'B6', 'B7', 'B8A', 'B11', 'B12'])\n",
    "    \n",
    "    img_11_10m_y2 = img_11_y2.select(['B2', 'B3', 'B4', 'B8'])\n",
    "    img_11_20m_y2 = img_11_y2.select(['B5', 'B6', 'B7', 'B8A', 'B11', 'B12'])\n",
    "    \n",
    "    \n",
    "    # create path to save image\n",
    "\n",
    "    path_10m = os.getcwd() + '/2022/sentinel2_10m_2020/' + tile[i] + '/'\n",
    "    path_20m = os.getcwd() + '/2022/sentinel2_20m_2020/' + tile[i] + '/'\n",
    "    if not os.path.exists(os.path.join(path_10m)):\n",
    "        os.makedirs(os.path.join(path_10m))\n",
    "    if not os.path.exists(os.path.join(path_20m)):\n",
    "        os.makedirs(os.path.join(path_20m))\n",
    "    \n",
    "    name_10m_01 = tile[i] + '_10m_01-01_median.tif'\n",
    "    name_10m_03 = tile[i] + '_10m_03-01_median.tif'\n",
    "    name_10m_05 = tile[i] + '_10m_05-01_median.tif'\n",
    "    name_10m_07 = tile[i] + '_10m_07-01_median.tif'\n",
    "    name_10m_09 = tile[i] + '_10m_09-01_median.tif'\n",
    "    name_10m_11 = tile[i] + '_10m_11-01_median.tif'\n",
    "    \n",
    "    name_20m_01 = tile[i] + '_20m_01-01_median.tif'                      \n",
    "    name_20m_03 = tile[i] + '_20m_03-01_median.tif'                      \n",
    "    name_20m_05 = tile[i] + '_20m_05-01_median.tif'                      \n",
    "    name_20m_07 = tile[i] + '_20m_07-01_median.tif'                      \n",
    "    name_20m_09 = tile[i] + '_20m_09-01_median.tif'                      \n",
    "    name_20m_11 = tile[i] + '_20m_11-01_median.tif'                      \n",
    "    \n",
    "    name_10m_01 = path_10m + name_10m_01\n",
    "    name_10m_03 = path_10m + name_10m_03\n",
    "    name_10m_05 = path_10m + name_10m_05\n",
    "    name_10m_07 = path_10m + name_10m_07\n",
    "    name_10m_09 = path_10m + name_10m_09\n",
    "    name_10m_11 = path_10m + name_10m_11\n",
    "    \n",
    "    name_20m_01 = path_20m + name_20m_01\n",
    "    name_20m_03 = path_20m + name_20m_03\n",
    "    name_20m_05 = path_20m + name_20m_05\n",
    "    name_20m_07 = path_20m + name_20m_07\n",
    "    name_20m_09 = path_20m + name_20m_09\n",
    "    name_20m_11 = path_20m + name_20m_11\n",
    "    \n",
    "    geemap.download_ee_image(img_01_10m_y2, name_10m_01, region=aoi[i], crs=\"EPSG:4326\", scale=10)\n",
    "    geemap.download_ee_image(img_03_10m_y2, name_10m_03, region=aoi[i], crs=\"EPSG:4326\", scale=10)\n",
    "    geemap.download_ee_image(img_05_10m_y2, name_10m_05, region=aoi[i], crs=\"EPSG:4326\", scale=10)\n",
    "    geemap.download_ee_image(img_07_10m_y2, name_10m_07, region=aoi[i], crs=\"EPSG:4326\", scale=10)\n",
    "    geemap.download_ee_image(img_09_10m_y2, name_10m_09, region=aoi[i], crs=\"EPSG:4326\", scale=10)\n",
    "    geemap.download_ee_image(img_11_10m_y2, name_10m_11, region=aoi[i], crs=\"EPSG:4326\", scale=10)\n",
    "    \n",
    "    geemap.download_ee_image(img_01_20m_y2, name_20m_01, region=aoi[i], crs=\"EPSG:4326\", scale=20)\n",
    "    geemap.download_ee_image(img_03_20m_y2, name_20m_03, region=aoi[i], crs=\"EPSG:4326\", scale=20)\n",
    "    geemap.download_ee_image(img_05_20m_y2, name_20m_05, region=aoi[i], crs=\"EPSG:4326\", scale=20)\n",
    "    geemap.download_ee_image(img_07_20m_y2, name_20m_07, region=aoi[i], crs=\"EPSG:4326\", scale=20)\n",
    "    geemap.download_ee_image(img_09_20m_y2, name_20m_09, region=aoi[i], crs=\"EPSG:4326\", scale=20)\n",
    "    geemap.download_ee_image(img_11_20m_y2, name_20m_11, region=aoi[i], crs=\"EPSG:4326\", scale=20)\n",
    "    "
   ]
  },
  {
   "cell_type": "code",
   "execution_count": null,
   "id": "cadaadea-3390-40ef-ae59-8118e906133b",
   "metadata": {},
   "outputs": [],
   "source": []
  }
 ],
 "metadata": {
  "kernelspec": {
   "display_name": "ee",
   "language": "python",
   "name": "python3"
  },
  "language_info": {
   "codemirror_mode": {
    "name": "ipython",
    "version": 3
   },
   "file_extension": ".py",
   "mimetype": "text/x-python",
   "name": "python",
   "nbconvert_exporter": "python",
   "pygments_lexer": "ipython3",
   "version": "3.12.3"
  }
 },
 "nbformat": 4,
 "nbformat_minor": 5
}
